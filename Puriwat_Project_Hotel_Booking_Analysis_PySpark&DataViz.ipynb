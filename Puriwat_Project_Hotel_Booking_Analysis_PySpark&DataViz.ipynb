{
  "nbformat": 4,
  "nbformat_minor": 0,
  "metadata": {
    "colab": {
      "provenance": [],
      "toc_visible": true,
      "mount_file_id": "1FPN4V7PP50ivsqE3oOHRpxOC0Sb3sB8f",
      "authorship_tag": "ABX9TyOx8giBogazdZxfqepSL1Yt",
      "include_colab_link": true
    },
    "kernelspec": {
      "name": "python3",
      "display_name": "Python 3"
    },
    "language_info": {
      "name": "python"
    }
  },
  "cells": [
    {
      "cell_type": "markdown",
      "metadata": {
        "id": "view-in-github",
        "colab_type": "text"
      },
      "source": [
        "<a href=\"https://colab.research.google.com/github/Pongpang-2102/Python_Intermediate-Data-Science-Course_KU/blob/main/Puriwat_Project_Hotel_Booking_Analysis_PySpark%26DataViz.ipynb\" target=\"_parent\"><img src=\"https://colab.research.google.com/assets/colab-badge.svg\" alt=\"Open In Colab\"/></a>"
      ]
    },
    {
      "cell_type": "markdown",
      "source": [
        "# Homework : PySpark DataFrame API \n"
      ],
      "metadata": {
        "id": "1ZQgIfuYNQc_"
      }
    },
    {
      "cell_type": "markdown",
      "source": [
        "Project Author : Puriwat Sangrawee"
      ],
      "metadata": {
        "id": "OL2pIjVxmZ_I"
      }
    },
    {
      "cell_type": "markdown",
      "source": [
        "## Question 01"
      ],
      "metadata": {
        "id": "mdbAW_t2KZSk"
      }
    },
    {
      "cell_type": "markdown",
      "source": [
        "สร้าง Notebook ใหม่ใน Google Colab แล้วลง PySpark ด้วยคำสั่ง !pip install pyspark สร้าง SparkSession ให้เรียบร้อย"
      ],
      "metadata": {
        "id": "Y9-7hJsrLGx6"
      }
    },
    {
      "cell_type": "code",
      "source": [
        "# 1.1 start with pip install \n",
        "!pip install pyspark\n"
      ],
      "metadata": {
        "colab": {
          "base_uri": "https://localhost:8080/"
        },
        "id": "FQMWD2_ZNcL2",
        "outputId": "9001fe3f-6f61-4fd2-bd01-b638b82cf42d"
      },
      "execution_count": null,
      "outputs": [
        {
          "output_type": "stream",
          "name": "stdout",
          "text": [
            "Looking in indexes: https://pypi.org/simple, https://us-python.pkg.dev/colab-wheels/public/simple/\n",
            "Collecting pyspark\n",
            "  Downloading pyspark-3.3.0.tar.gz (281.3 MB)\n",
            "\u001b[K     |████████████████████████████████| 281.3 MB 43 kB/s \n",
            "\u001b[?25hCollecting py4j==0.10.9.5\n",
            "  Downloading py4j-0.10.9.5-py2.py3-none-any.whl (199 kB)\n",
            "\u001b[K     |████████████████████████████████| 199 kB 63.2 MB/s \n",
            "\u001b[?25hBuilding wheels for collected packages: pyspark\n",
            "  Building wheel for pyspark (setup.py) ... \u001b[?25l\u001b[?25hdone\n",
            "  Created wheel for pyspark: filename=pyspark-3.3.0-py2.py3-none-any.whl size=281764026 sha256=86990c77ebea30572b5a7eb25d3156e96a0f7d27628aeca6c944b9fa1407b30a\n",
            "  Stored in directory: /root/.cache/pip/wheels/7a/8e/1b/f73a52650d2e5f337708d9f6a1750d451a7349a867f928b885\n",
            "Successfully built pyspark\n",
            "Installing collected packages: py4j, pyspark\n",
            "Successfully installed py4j-0.10.9.5 pyspark-3.3.0\n"
          ]
        }
      ]
    },
    {
      "cell_type": "code",
      "source": [
        "# 1.2 impoort Spark Session\n",
        "from pyspark.sql import SparkSession"
      ],
      "metadata": {
        "id": "0iBVpI8xOd-m"
      },
      "execution_count": null,
      "outputs": []
    },
    {
      "cell_type": "code",
      "source": [
        "# 1.3 create a spark session\n",
        "spark = SparkSession.builder.appName('Puriwat_Homework_PySpark&DataViz').getOrCreate()"
      ],
      "metadata": {
        "id": "itLvEwmzOgoG"
      },
      "execution_count": null,
      "outputs": []
    },
    {
      "cell_type": "markdown",
      "source": [
        "## Question 02"
      ],
      "metadata": {
        "id": "np7XCiSAL3j9"
      }
    },
    {
      "cell_type": "markdown",
      "source": [
        "เปิดไฟล์ `hotel_booking.csv` เข้ามาเป็น DataFrame โดยแถวแรกของไฟล์จะเป็น header ให้ PySpark ประเมิน\n",
        "Schema ของไฟล์เอง แล้วแสดงจำนวนแถวกับคอลัมน์ของตาราง"
      ],
      "metadata": {
        "id": "qRoArXMYLcBt"
      }
    },
    {
      "cell_type": "code",
      "source": [
        "# 2.1 import csv file : hotel_booking.csv / using InferSchema to command Pyspark evaluate schema automatically \n",
        "hotel_booking_df = spark.read.csv('/content/drive/MyDrive/##ku_int_ds2022/hotel_bookings.csv',header=True, inferSchema=True)"
      ],
      "metadata": {
        "id": "AeZGO7DyRZqO"
      },
      "execution_count": null,
      "outputs": []
    },
    {
      "cell_type": "code",
      "source": [
        "# 2.2 to view our defined schema \n",
        "hotel_booking_df.printSchema()"
      ],
      "metadata": {
        "id": "Sxvk_ly6RZUW",
        "colab": {
          "base_uri": "https://localhost:8080/"
        },
        "outputId": "52624bda-b81b-4b59-cfea-d835d83c53bb"
      },
      "execution_count": null,
      "outputs": [
        {
          "output_type": "stream",
          "name": "stdout",
          "text": [
            "root\n",
            " |-- hotel: string (nullable = true)\n",
            " |-- is_canceled: integer (nullable = true)\n",
            " |-- lead_time: integer (nullable = true)\n",
            " |-- arrival_date_year: integer (nullable = true)\n",
            " |-- arrival_date_month: string (nullable = true)\n",
            " |-- arrival_date_week_number: integer (nullable = true)\n",
            " |-- arrival_date_day_of_month: integer (nullable = true)\n",
            " |-- stays_in_weekend_nights: integer (nullable = true)\n",
            " |-- stays_in_week_nights: integer (nullable = true)\n",
            " |-- adults: integer (nullable = true)\n",
            " |-- children: string (nullable = true)\n",
            " |-- babies: integer (nullable = true)\n",
            " |-- meal: string (nullable = true)\n",
            " |-- country: string (nullable = true)\n",
            " |-- market_segment: string (nullable = true)\n",
            " |-- distribution_channel: string (nullable = true)\n",
            " |-- is_repeated_guest: integer (nullable = true)\n",
            " |-- previous_cancellations: integer (nullable = true)\n",
            " |-- previous_bookings_not_canceled: integer (nullable = true)\n",
            " |-- reserved_room_type: string (nullable = true)\n",
            " |-- assigned_room_type: string (nullable = true)\n",
            " |-- booking_changes: integer (nullable = true)\n",
            " |-- deposit_type: string (nullable = true)\n",
            " |-- agent: string (nullable = true)\n",
            " |-- company: string (nullable = true)\n",
            " |-- days_in_waiting_list: integer (nullable = true)\n",
            " |-- customer_type: string (nullable = true)\n",
            " |-- adr: double (nullable = true)\n",
            " |-- required_car_parking_spaces: integer (nullable = true)\n",
            " |-- total_of_special_requests: integer (nullable = true)\n",
            " |-- reservation_status: string (nullable = true)\n",
            " |-- reservation_status_date: timestamp (nullable = true)\n",
            "\n"
          ]
        }
      ]
    },
    {
      "cell_type": "code",
      "source": [
        "# 2.3 to view data in our otel_booking_df partially\n",
        "hotel_booking_df.show()"
      ],
      "metadata": {
        "id": "YxHrppQIRZkV",
        "colab": {
          "base_uri": "https://localhost:8080/"
        },
        "outputId": "146dae72-d90e-4132-80ac-8b7e046f2b10"
      },
      "execution_count": null,
      "outputs": [
        {
          "output_type": "stream",
          "name": "stdout",
          "text": [
            "+------------+-----------+---------+-----------------+------------------+------------------------+-------------------------+-----------------------+--------------------+------+--------+------+----+-------+--------------+--------------------+-----------------+----------------------+------------------------------+------------------+------------------+---------------+------------+-----+-------+--------------------+-------------+------+---------------------------+-------------------------+------------------+-----------------------+\n",
            "|       hotel|is_canceled|lead_time|arrival_date_year|arrival_date_month|arrival_date_week_number|arrival_date_day_of_month|stays_in_weekend_nights|stays_in_week_nights|adults|children|babies|meal|country|market_segment|distribution_channel|is_repeated_guest|previous_cancellations|previous_bookings_not_canceled|reserved_room_type|assigned_room_type|booking_changes|deposit_type|agent|company|days_in_waiting_list|customer_type|   adr|required_car_parking_spaces|total_of_special_requests|reservation_status|reservation_status_date|\n",
            "+------------+-----------+---------+-----------------+------------------+------------------------+-------------------------+-----------------------+--------------------+------+--------+------+----+-------+--------------+--------------------+-----------------+----------------------+------------------------------+------------------+------------------+---------------+------------+-----+-------+--------------------+-------------+------+---------------------------+-------------------------+------------------+-----------------------+\n",
            "|Resort Hotel|          0|      342|             2015|              July|                      27|                        1|                      0|                   0|     2|       0|     0|  BB|    PRT|        Direct|              Direct|                0|                     0|                             0|                 C|                 C|              3|  No Deposit| NULL|   NULL|                   0|    Transient|   0.0|                          0|                        0|         Check-Out|    2015-07-01 00:00:00|\n",
            "|Resort Hotel|          0|      737|             2015|              July|                      27|                        1|                      0|                   0|     2|       0|     0|  BB|    PRT|        Direct|              Direct|                0|                     0|                             0|                 C|                 C|              4|  No Deposit| NULL|   NULL|                   0|    Transient|   0.0|                          0|                        0|         Check-Out|    2015-07-01 00:00:00|\n",
            "|Resort Hotel|          0|        7|             2015|              July|                      27|                        1|                      0|                   1|     1|       0|     0|  BB|    GBR|        Direct|              Direct|                0|                     0|                             0|                 A|                 C|              0|  No Deposit| NULL|   NULL|                   0|    Transient|  75.0|                          0|                        0|         Check-Out|    2015-07-02 00:00:00|\n",
            "|Resort Hotel|          0|       13|             2015|              July|                      27|                        1|                      0|                   1|     1|       0|     0|  BB|    GBR|     Corporate|           Corporate|                0|                     0|                             0|                 A|                 A|              0|  No Deposit|  304|   NULL|                   0|    Transient|  75.0|                          0|                        0|         Check-Out|    2015-07-02 00:00:00|\n",
            "|Resort Hotel|          0|       14|             2015|              July|                      27|                        1|                      0|                   2|     2|       0|     0|  BB|    GBR|     Online TA|               TA/TO|                0|                     0|                             0|                 A|                 A|              0|  No Deposit|  240|   NULL|                   0|    Transient|  98.0|                          0|                        1|         Check-Out|    2015-07-03 00:00:00|\n",
            "|Resort Hotel|          0|       14|             2015|              July|                      27|                        1|                      0|                   2|     2|       0|     0|  BB|    GBR|     Online TA|               TA/TO|                0|                     0|                             0|                 A|                 A|              0|  No Deposit|  240|   NULL|                   0|    Transient|  98.0|                          0|                        1|         Check-Out|    2015-07-03 00:00:00|\n",
            "|Resort Hotel|          0|        0|             2015|              July|                      27|                        1|                      0|                   2|     2|       0|     0|  BB|    PRT|        Direct|              Direct|                0|                     0|                             0|                 C|                 C|              0|  No Deposit| NULL|   NULL|                   0|    Transient| 107.0|                          0|                        0|         Check-Out|    2015-07-03 00:00:00|\n",
            "|Resort Hotel|          0|        9|             2015|              July|                      27|                        1|                      0|                   2|     2|       0|     0|  FB|    PRT|        Direct|              Direct|                0|                     0|                             0|                 C|                 C|              0|  No Deposit|  303|   NULL|                   0|    Transient| 103.0|                          0|                        1|         Check-Out|    2015-07-03 00:00:00|\n",
            "|Resort Hotel|          1|       85|             2015|              July|                      27|                        1|                      0|                   3|     2|       0|     0|  BB|    PRT|     Online TA|               TA/TO|                0|                     0|                             0|                 A|                 A|              0|  No Deposit|  240|   NULL|                   0|    Transient|  82.0|                          0|                        1|          Canceled|    2015-05-06 00:00:00|\n",
            "|Resort Hotel|          1|       75|             2015|              July|                      27|                        1|                      0|                   3|     2|       0|     0|  HB|    PRT| Offline TA/TO|               TA/TO|                0|                     0|                             0|                 D|                 D|              0|  No Deposit|   15|   NULL|                   0|    Transient| 105.5|                          0|                        0|          Canceled|    2015-04-22 00:00:00|\n",
            "|Resort Hotel|          1|       23|             2015|              July|                      27|                        1|                      0|                   4|     2|       0|     0|  BB|    PRT|     Online TA|               TA/TO|                0|                     0|                             0|                 E|                 E|              0|  No Deposit|  240|   NULL|                   0|    Transient| 123.0|                          0|                        0|          Canceled|    2015-06-23 00:00:00|\n",
            "|Resort Hotel|          0|       35|             2015|              July|                      27|                        1|                      0|                   4|     2|       0|     0|  HB|    PRT|     Online TA|               TA/TO|                0|                     0|                             0|                 D|                 D|              0|  No Deposit|  240|   NULL|                   0|    Transient| 145.0|                          0|                        0|         Check-Out|    2015-07-05 00:00:00|\n",
            "|Resort Hotel|          0|       68|             2015|              July|                      27|                        1|                      0|                   4|     2|       0|     0|  BB|    USA|     Online TA|               TA/TO|                0|                     0|                             0|                 D|                 E|              0|  No Deposit|  240|   NULL|                   0|    Transient|  97.0|                          0|                        3|         Check-Out|    2015-07-05 00:00:00|\n",
            "|Resort Hotel|          0|       18|             2015|              July|                      27|                        1|                      0|                   4|     2|       1|     0|  HB|    ESP|     Online TA|               TA/TO|                0|                     0|                             0|                 G|                 G|              1|  No Deposit|  241|   NULL|                   0|    Transient|154.77|                          0|                        1|         Check-Out|    2015-07-05 00:00:00|\n",
            "|Resort Hotel|          0|       37|             2015|              July|                      27|                        1|                      0|                   4|     2|       0|     0|  BB|    PRT|     Online TA|               TA/TO|                0|                     0|                             0|                 E|                 E|              0|  No Deposit|  241|   NULL|                   0|    Transient| 94.71|                          0|                        0|         Check-Out|    2015-07-05 00:00:00|\n",
            "|Resort Hotel|          0|       68|             2015|              July|                      27|                        1|                      0|                   4|     2|       0|     0|  BB|    IRL|     Online TA|               TA/TO|                0|                     0|                             0|                 D|                 E|              0|  No Deposit|  240|   NULL|                   0|    Transient|  97.0|                          0|                        3|         Check-Out|    2015-07-05 00:00:00|\n",
            "|Resort Hotel|          0|       37|             2015|              July|                      27|                        1|                      0|                   4|     2|       0|     0|  BB|    PRT| Offline TA/TO|               TA/TO|                0|                     0|                             0|                 E|                 E|              0|  No Deposit|    8|   NULL|                   0|     Contract|  97.5|                          0|                        0|         Check-Out|    2015-07-05 00:00:00|\n",
            "|Resort Hotel|          0|       12|             2015|              July|                      27|                        1|                      0|                   1|     2|       0|     0|  BB|    IRL|     Online TA|               TA/TO|                0|                     0|                             0|                 A|                 E|              0|  No Deposit|  240|   NULL|                   0|    Transient|  88.2|                          0|                        0|         Check-Out|    2015-07-02 00:00:00|\n",
            "|Resort Hotel|          0|        0|             2015|              July|                      27|                        1|                      0|                   1|     2|       0|     0|  BB|    FRA|     Corporate|           Corporate|                0|                     0|                             0|                 A|                 G|              0|  No Deposit| NULL|    110|                   0|    Transient|107.42|                          0|                        0|         Check-Out|    2015-07-02 00:00:00|\n",
            "|Resort Hotel|          0|        7|             2015|              July|                      27|                        1|                      0|                   4|     2|       0|     0|  BB|    GBR|        Direct|              Direct|                0|                     0|                             0|                 G|                 G|              0|  No Deposit|  250|   NULL|                   0|    Transient| 153.0|                          0|                        1|         Check-Out|    2015-07-05 00:00:00|\n",
            "+------------+-----------+---------+-----------------+------------------+------------------------+-------------------------+-----------------------+--------------------+------+--------+------+----+-------+--------------+--------------------+-----------------+----------------------+------------------------------+------------------+------------------+---------------+------------+-----+-------+--------------------+-------------+------+---------------------------+-------------------------+------------------+-----------------------+\n",
            "only showing top 20 rows\n",
            "\n"
          ]
        }
      ]
    },
    {
      "cell_type": "code",
      "source": [
        "# 2.4 to view number of rows and column in our dataframe (hotel_booking_df) we will use\n",
        "\n",
        "print(\"Our hotel_booking_df info\"\n",
        "      \"\\nnumber of row (records) =\",hotel_booking_df.count(),\n",
        "      \"\\nnumber of column        =\",len(hotel_booking_df .columns) )"
      ],
      "metadata": {
        "colab": {
          "base_uri": "https://localhost:8080/"
        },
        "id": "DpQPgeW-SPTr",
        "outputId": "4e6a86a8-0663-49c3-ffa9-c523747fb684"
      },
      "execution_count": null,
      "outputs": [
        {
          "output_type": "stream",
          "name": "stdout",
          "text": [
            "Our hotel_booking_df info\n",
            "number of row (records) = 119390 \n",
            "number of column        = 32\n"
          ]
        }
      ]
    },
    {
      "cell_type": "markdown",
      "source": [
        "## Question 03"
      ],
      "metadata": {
        "id": "y3qhSh7TNLpO"
      }
    },
    {
      "cell_type": "markdown",
      "source": [
        "แสดงข้อมูล 5 แถวแรกของตารางและคอลัมน์ชื่อ arrival_date_year, arrival_date_month และ\n",
        "arrival_date_day_of_month"
      ],
      "metadata": {
        "id": "eJXgkUGvTp2O"
      }
    },
    {
      "cell_type": "code",
      "source": [
        "#  to view data only the first 5 rows only in specified column ()\n",
        "# arrival_date_year, arrival_date_month และ arrival_date_day_of_month\n",
        "\n",
        "hotel_booking_df[ ['arrival_date_year',\n",
        "                   'arrival_date_month',\n",
        "                   'arrival_date_day_of_month']    ].show(5)   \n",
        "\n",
        "# it can solve for Question 3"
      ],
      "metadata": {
        "colab": {
          "base_uri": "https://localhost:8080/"
        },
        "id": "6J_izU3SNJVK",
        "outputId": "e096b0ac-b37f-4702-aff8-309c1577dff7"
      },
      "execution_count": null,
      "outputs": [
        {
          "output_type": "stream",
          "name": "stdout",
          "text": [
            "+-----------------+------------------+-------------------------+\n",
            "|arrival_date_year|arrival_date_month|arrival_date_day_of_month|\n",
            "+-----------------+------------------+-------------------------+\n",
            "|             2015|              July|                        1|\n",
            "|             2015|              July|                        1|\n",
            "|             2015|              July|                        1|\n",
            "|             2015|              July|                        1|\n",
            "|             2015|              July|                        1|\n",
            "+-----------------+------------------+-------------------------+\n",
            "only showing top 5 rows\n",
            "\n"
          ]
        }
      ]
    },
    {
      "cell_type": "markdown",
      "source": [
        "## Question 04"
      ],
      "metadata": {
        "id": "Bd8LQ7q8WGcv"
      }
    },
    {
      "cell_type": "markdown",
      "source": [
        "ลูกค้าที่จองล่วงหน้า (lead_time) มากกว่า 365 วันมีกี่ราย"
      ],
      "metadata": {
        "id": "GDNzDBUsXU0w"
      }
    },
    {
      "cell_type": "code",
      "source": [
        "# to summarize statistics using : agg()\n",
        "\n",
        "# 1. starting with  import function as F\n",
        "import pyspark.sql.functions as F"
      ],
      "metadata": {
        "id": "kySXXhD0Yr0T"
      },
      "execution_count": null,
      "outputs": []
    },
    {
      "cell_type": "code",
      "source": [
        "# filter only lead time > 365 --> count and show data\n",
        "hotel_booking_in_adv_365 = hotel_booking_df[   hotel_booking_df.lead_time > 365       ].count()\n",
        "print(\"the number of customer who make a hotel reservation over 365 day in advance = \",hotel_booking_in_adv_365) # it can solve for Question 4"
      ],
      "metadata": {
        "colab": {
          "base_uri": "https://localhost:8080/"
        },
        "id": "hqRp1BKZbI0m",
        "outputId": "72f5ab97-d86f-42f4-a820-cd30b7f32772"
      },
      "execution_count": null,
      "outputs": [
        {
          "output_type": "stream",
          "name": "stdout",
          "text": [
            "the number of customer who make a hotel reservation over 365 day in advance =  3148\n"
          ]
        }
      ]
    },
    {
      "cell_type": "markdown",
      "source": [
        "## Question 05"
      ],
      "metadata": {
        "id": "IAlba5LShhOp"
      }
    },
    {
      "cell_type": "markdown",
      "source": [
        "ลูกค้าที่จองห้องต่อเนื่องทั้งวันธรรมดา (stays_in_week_nights) และวันสุดสัปดาห์ (stays_in_weekend_nights) มีกี่ราย\n"
      ],
      "metadata": {
        "id": "qMSKq3XGhnif"
      }
    },
    {
      "cell_type": "code",
      "source": [
        "hotel_booking_conti = hotel_booking_df.filter(  ( hotel_booking_df.stays_in_week_nights > 0 )  & (hotel_booking_df.stays_in_weekend_nights > 0   )             ).count()\n",
        "hotel_booking_conti\n",
        "print(\"the number of customer who make a reservation from week night to weekend night = \",hotel_booking_conti) # it can solve for Question 5"
      ],
      "metadata": {
        "colab": {
          "base_uri": "https://localhost:8080/"
        },
        "id": "pVHj8eFVhhrq",
        "outputId": "9c5d0a0d-9fd0-45b7-9c7b-2b4750dfb81f"
      },
      "execution_count": null,
      "outputs": [
        {
          "output_type": "stream",
          "name": "stdout",
          "text": [
            "the number of customer who make a reservation from week night to weekend night =  60462\n"
          ]
        }
      ]
    },
    {
      "cell_type": "markdown",
      "source": [
        "## Question 06"
      ],
      "metadata": {
        "id": "k0bLCzMDd1Jb"
      }
    },
    {
      "cell_type": "markdown",
      "source": [
        "คอลัมน์ children เป็นประเภท string เพราะมีคำว่า “NA” อยู่ ให้เปลี่ยนคำว่า NA ให้เป็น 0"
      ],
      "metadata": {
        "id": "pEdHjYHJlLkr"
      }
    },
    {
      "cell_type": "code",
      "source": [
        "# 6.1 to ensure that above passange is correct (children col =  String)\n",
        "# we must to check data type of children column\n",
        "hotel_booking_df.printSchema()"
      ],
      "metadata": {
        "colab": {
          "base_uri": "https://localhost:8080/"
        },
        "id": "RPbHNqVhmn-d",
        "outputId": "9e50000a-cb2d-48e5-e87c-22f98d93cf2c"
      },
      "execution_count": null,
      "outputs": [
        {
          "output_type": "stream",
          "name": "stdout",
          "text": [
            "root\n",
            " |-- hotel: string (nullable = true)\n",
            " |-- is_canceled: integer (nullable = true)\n",
            " |-- lead_time: integer (nullable = true)\n",
            " |-- arrival_date_year: integer (nullable = true)\n",
            " |-- arrival_date_month: string (nullable = true)\n",
            " |-- arrival_date_week_number: integer (nullable = true)\n",
            " |-- arrival_date_day_of_month: integer (nullable = true)\n",
            " |-- stays_in_weekend_nights: integer (nullable = true)\n",
            " |-- stays_in_week_nights: integer (nullable = true)\n",
            " |-- adults: integer (nullable = true)\n",
            " |-- children: string (nullable = true)\n",
            " |-- babies: integer (nullable = true)\n",
            " |-- meal: string (nullable = true)\n",
            " |-- country: string (nullable = true)\n",
            " |-- market_segment: string (nullable = true)\n",
            " |-- distribution_channel: string (nullable = true)\n",
            " |-- is_repeated_guest: integer (nullable = true)\n",
            " |-- previous_cancellations: integer (nullable = true)\n",
            " |-- previous_bookings_not_canceled: integer (nullable = true)\n",
            " |-- reserved_room_type: string (nullable = true)\n",
            " |-- assigned_room_type: string (nullable = true)\n",
            " |-- booking_changes: integer (nullable = true)\n",
            " |-- deposit_type: string (nullable = true)\n",
            " |-- agent: string (nullable = true)\n",
            " |-- company: string (nullable = true)\n",
            " |-- days_in_waiting_list: integer (nullable = true)\n",
            " |-- customer_type: string (nullable = true)\n",
            " |-- adr: double (nullable = true)\n",
            " |-- required_car_parking_spaces: integer (nullable = true)\n",
            " |-- total_of_special_requests: integer (nullable = true)\n",
            " |-- reservation_status: string (nullable = true)\n",
            " |-- reservation_status_date: timestamp (nullable = true)\n",
            "\n"
          ]
        }
      ]
    },
    {
      "cell_type": "code",
      "source": [
        "# 6.2 run this command to ask a permission to run data as SQL-style\n",
        "hotel_booking_df.createOrReplaceTempView('hotel_booking_df')"
      ],
      "metadata": {
        "id": "ml9X6MkBO9As"
      },
      "execution_count": null,
      "outputs": []
    },
    {
      "cell_type": "code",
      "source": [
        "# 6.3  before update data / try to verify remained \"NA\" on col children \n",
        "spark.sql('SELECT count(children)\\\n",
        "           FROM hotel_booking_df\\\n",
        "           WHERE children == \"NA\"').show() "
      ],
      "metadata": {
        "colab": {
          "base_uri": "https://localhost:8080/"
        },
        "id": "jK6LXfJDOVvC",
        "outputId": "39fe2f57-b113-4c4a-ae58-bdea83e7b6c0"
      },
      "execution_count": null,
      "outputs": [
        {
          "output_type": "stream",
          "name": "stdout",
          "text": [
            "+---------------+\n",
            "|count(children)|\n",
            "+---------------+\n",
            "|              4|\n",
            "+---------------+\n",
            "\n"
          ]
        }
      ]
    },
    {
      "cell_type": "code",
      "source": [
        "spark.sql('SELECT children\\\n",
        "           FROM hotel_booking_df\\\n",
        "           WHERE children == \"NA\"').show() "
      ],
      "metadata": {
        "colab": {
          "base_uri": "https://localhost:8080/"
        },
        "id": "eh1oB8q_BiIk",
        "outputId": "26346c17-01e4-4ab9-a2c1-5b50b8d6f3e1"
      },
      "execution_count": null,
      "outputs": [
        {
          "output_type": "stream",
          "name": "stdout",
          "text": [
            "+--------+\n",
            "|children|\n",
            "+--------+\n",
            "|      NA|\n",
            "|      NA|\n",
            "|      NA|\n",
            "|      NA|\n",
            "+--------+\n",
            "\n"
          ]
        }
      ]
    },
    {
      "cell_type": "code",
      "source": [
        "# 6.4 Replace \"NA\" with 0 and show the new data \n",
        "chldren_wo_na_df = \\\n",
        "hotel_booking_df.\\\n",
        "select(\n",
        "    F.when (hotel_booking_df.children == \"NA\",0).\\\n",
        "    otherwise(hotel_booking_df.children).\\\n",
        "    alias('Children')\n",
        "             \n",
        "     ) \n",
        "\n",
        "chldren_wo_na_df.show(5)"
      ],
      "metadata": {
        "colab": {
          "base_uri": "https://localhost:8080/"
        },
        "id": "XZC89THDAy-U",
        "outputId": "d8cd0558-0110-48c9-a981-17933c0ead34"
      },
      "execution_count": null,
      "outputs": [
        {
          "output_type": "stream",
          "name": "stdout",
          "text": [
            "+--------+\n",
            "|Children|\n",
            "+--------+\n",
            "|       0|\n",
            "|       0|\n",
            "|       0|\n",
            "|       0|\n",
            "|       0|\n",
            "+--------+\n",
            "only showing top 5 rows\n",
            "\n"
          ]
        }
      ]
    },
    {
      "cell_type": "code",
      "source": [
        "# 6.5 run this command to ask a permission to run data as SQL-style\n",
        "chldren_wo_na_df.createOrReplaceTempView('chldren_wo_na_df')"
      ],
      "metadata": {
        "id": "WB28nD1AD4Rv"
      },
      "execution_count": null,
      "outputs": []
    },
    {
      "cell_type": "code",
      "source": [
        "# 6.6  after data has been updated / try to verify remained \"NA\" again\n",
        "spark.sql('SELECT count(children) AS No_of_children \\\n",
        "           FROM chldren_wo_na_df\\\n",
        "           WHERE children == \"NA\"').show() "
      ],
      "metadata": {
        "colab": {
          "base_uri": "https://localhost:8080/"
        },
        "id": "KwkmbPwbDty9",
        "outputId": "7586ed4c-e428-4b16-951e-4f88293f30ae"
      },
      "execution_count": null,
      "outputs": [
        {
          "output_type": "stream",
          "name": "stdout",
          "text": [
            "+--------------+\n",
            "|No_of_children|\n",
            "+--------------+\n",
            "|             0|\n",
            "+--------------+\n",
            "\n"
          ]
        }
      ]
    },
    {
      "cell_type": "code",
      "source": [
        "# 6.7 try to check data type of our new children column\n",
        "chldren_wo_na_df.printSchema()\n",
        "# It was still be \"String\""
      ],
      "metadata": {
        "colab": {
          "base_uri": "https://localhost:8080/"
        },
        "id": "YbuI1lxxHRSd",
        "outputId": "90e79baa-c037-44d8-c15b-88666bee2fd6"
      },
      "execution_count": null,
      "outputs": [
        {
          "output_type": "stream",
          "name": "stdout",
          "text": [
            "root\n",
            " |-- Children: string (nullable = true)\n",
            "\n"
          ]
        }
      ]
    },
    {
      "cell_type": "code",
      "source": [
        "# 6.8 Using \"cast\" to change data type from string to integer and show result\n",
        "children_wo_na_df_int = \\\n",
        "        chldren_wo_na_df.\\\n",
        "                withColumn(\"children\",\n",
        "                           F.col('children').cast('int'))\n",
        "\n",
        "children_wo_na_df_int.show()"
      ],
      "metadata": {
        "colab": {
          "base_uri": "https://localhost:8080/"
        },
        "id": "tzhPnzboH7mz",
        "outputId": "f251cbbe-71c0-4de4-ac4c-4238bcb0d975"
      },
      "execution_count": null,
      "outputs": [
        {
          "output_type": "stream",
          "name": "stdout",
          "text": [
            "+--------+\n",
            "|children|\n",
            "+--------+\n",
            "|       0|\n",
            "|       0|\n",
            "|       0|\n",
            "|       0|\n",
            "|       0|\n",
            "|       0|\n",
            "|       0|\n",
            "|       0|\n",
            "|       0|\n",
            "|       0|\n",
            "|       0|\n",
            "|       0|\n",
            "|       0|\n",
            "|       1|\n",
            "|       0|\n",
            "|       0|\n",
            "|       0|\n",
            "|       0|\n",
            "|       0|\n",
            "|       0|\n",
            "+--------+\n",
            "only showing top 20 rows\n",
            "\n"
          ]
        }
      ]
    },
    {
      "cell_type": "code",
      "source": [
        "# 6.9 try to check datta type of our new children again\n",
        "children_wo_na_df_int.printSchema()\n",
        "# from 6.8 and 6.9 : our data has been changed from \"NA (str)\" to 0 (int) already "
      ],
      "metadata": {
        "colab": {
          "base_uri": "https://localhost:8080/"
        },
        "id": "GAyOUf5VH7ke",
        "outputId": "ece323c5-e5bf-4a74-8543-7a8a375909b6"
      },
      "execution_count": null,
      "outputs": [
        {
          "output_type": "stream",
          "name": "stdout",
          "text": [
            "root\n",
            " |-- children: integer (nullable = true)\n",
            "\n"
          ]
        }
      ]
    },
    {
      "cell_type": "markdown",
      "source": [
        "## Question 07"
      ],
      "metadata": {
        "id": "Fov9skAwhdB9"
      }
    },
    {
      "cell_type": "markdown",
      "source": [
        "หาค่าเฉลี่ยของคอลัมน์จำนวนเด็ก (children)"
      ],
      "metadata": {
        "id": "7rtH06M_odX6"
      }
    },
    {
      "cell_type": "code",
      "source": [
        "import pyspark.sql"
      ],
      "metadata": {
        "id": "Uk-cu0KqAqa3"
      },
      "execution_count": null,
      "outputs": []
    },
    {
      "cell_type": "code",
      "source": [
        "from pyspark.sql.functions import sum, max, min, avg, count, mean ,round"
      ],
      "metadata": {
        "id": "rTBorCgqDWen"
      },
      "execution_count": null,
      "outputs": []
    },
    {
      "cell_type": "code",
      "source": [
        "hotel_booking_df.\\\n",
        "   agg(   round( F.mean(\"children\"),3).alias('average_no_of_children')   )\\\n",
        "   .show() # it can solve for Question 7"
      ],
      "metadata": {
        "colab": {
          "base_uri": "https://localhost:8080/"
        },
        "id": "4qFEamrf82aW",
        "outputId": "b94322ff-99c4-493d-8384-5b7443c572a9"
      },
      "execution_count": null,
      "outputs": [
        {
          "output_type": "stream",
          "name": "stdout",
          "text": [
            "+----------------------+\n",
            "|average_no_of_children|\n",
            "+----------------------+\n",
            "|                 0.104|\n",
            "+----------------------+\n",
            "\n"
          ]
        }
      ]
    },
    {
      "cell_type": "markdown",
      "source": [
        "ซึ่งสามารถใช้วิธีการ query แบบเดียวกับ SQL ได้ด้วยเช่นกัน ตามตัวอย่างด้านล่าง"
      ],
      "metadata": {
        "id": "LU4SV3Cq88Vy"
      }
    },
    {
      "cell_type": "code",
      "source": [
        "# run this command to ask a permission to run data as SQL-style\n",
        "hotel_booking_df.createOrReplaceTempView('hotel_booking_df')"
      ],
      "metadata": {
        "id": "LzUsyp7rG6e3"
      },
      "execution_count": null,
      "outputs": []
    },
    {
      "cell_type": "code",
      "source": [
        "spark.sql('SELECT ROUND(AVG(children),3) AS Average_No_of_children \\\n",
        "           FROM hotel_booking_df').show()  # it can solve for Question 7"
      ],
      "metadata": {
        "colab": {
          "base_uri": "https://localhost:8080/"
        },
        "id": "ymSb5WDpBlXz",
        "outputId": "53e5dfd2-6403-4577-9d1c-8310d325d062"
      },
      "execution_count": null,
      "outputs": [
        {
          "output_type": "stream",
          "name": "stdout",
          "text": [
            "+----------------------+\n",
            "|Average_No_of_children|\n",
            "+----------------------+\n",
            "|                 0.104|\n",
            "+----------------------+\n",
            "\n"
          ]
        }
      ]
    },
    {
      "cell_type": "markdown",
      "source": [
        "## Question 08"
      ],
      "metadata": {
        "id": "bDZNf8Qt4fdR"
      }
    },
    {
      "cell_type": "markdown",
      "source": [
        "ผู้จองโรงแรมมาจากกี่่ประเทศ (country) (นับจำนวนประเทศที่ไม่ซ้ำ)"
      ],
      "metadata": {
        "id": "ZhOdJUMS4iXP"
      }
    },
    {
      "cell_type": "code",
      "source": [
        "spark.sql('SELECT COUNT(DISTINCT(country)) AS No_of_Customer_Country\\\n",
        "            FROM hotel_booking_df').show() # it can solve for Question 8"
      ],
      "metadata": {
        "colab": {
          "base_uri": "https://localhost:8080/"
        },
        "id": "qcDqZjm84hW9",
        "outputId": "4a4e2257-48b4-4e4d-e5b3-f5b68e773445"
      },
      "execution_count": null,
      "outputs": [
        {
          "output_type": "stream",
          "name": "stdout",
          "text": [
            "+----------------------+\n",
            "|No_of_Customer_Country|\n",
            "+----------------------+\n",
            "|                   178|\n",
            "+----------------------+\n",
            "\n"
          ]
        }
      ]
    },
    {
      "cell_type": "markdown",
      "source": [
        "## Question 09"
      ],
      "metadata": {
        "id": "GlnqsW1f6SU6"
      }
    },
    {
      "cell_type": "markdown",
      "source": [
        "นับจำนวนผู้จองแยกตามโรงแรม (hotel)"
      ],
      "metadata": {
        "id": "8KVWFhXl6VNX"
      }
    },
    {
      "cell_type": "code",
      "source": [
        "# to count hotel_booker based on hotel category\n",
        "hotel_booking_df.groupby('hotel').\\\n",
        "                 agg(   F.count(\"hotel\").alias('No_of_customers')  ).\\\n",
        "                 sort('No_of_customers',ascending = False).show() # it can solve for Question 9"
      ],
      "metadata": {
        "colab": {
          "base_uri": "https://localhost:8080/"
        },
        "id": "NqfPrzLE7f0W",
        "outputId": "72f114a3-2f52-4992-fb7f-abd4635df207"
      },
      "execution_count": null,
      "outputs": [
        {
          "output_type": "stream",
          "name": "stdout",
          "text": [
            "+------------+---------------+\n",
            "|       hotel|No_of_customers|\n",
            "+------------+---------------+\n",
            "|  City Hotel|          79330|\n",
            "|Resort Hotel|          40060|\n",
            "+------------+---------------+\n",
            "\n"
          ]
        }
      ]
    },
    {
      "cell_type": "markdown",
      "source": [
        "## Question 10"
      ],
      "metadata": {
        "id": "-3-WUkdZA8Hv"
      }
    },
    {
      "cell_type": "markdown",
      "source": [
        "นับจำนวนผู้จองแยกตามประเทศ (country) เรียงตามลำดับจากมากไปน้อย แสดงแค่ 5 ประเทศแรก"
      ],
      "metadata": {
        "id": "7cuRiQiuBDQg"
      }
    },
    {
      "cell_type": "code",
      "source": [
        "hotel_booking_df.\\\n",
        "     groupby('country').\\\n",
        "     agg(   F.count(\"country\").alias('No_of_customers')   ).\\\n",
        "     sort('No_of_customers',\n",
        "          ascending = False).show(5)  # it can solve for Question 10"
      ],
      "metadata": {
        "colab": {
          "base_uri": "https://localhost:8080/"
        },
        "id": "BAQ3BHVmAo_4",
        "outputId": "f417f398-74e2-49aa-a3e9-3c4596e06f8f"
      },
      "execution_count": null,
      "outputs": [
        {
          "output_type": "stream",
          "name": "stdout",
          "text": [
            "+-------+---------------+\n",
            "|country|No_of_customers|\n",
            "+-------+---------------+\n",
            "|    PRT|          48590|\n",
            "|    GBR|          12129|\n",
            "|    FRA|          10415|\n",
            "|    ESP|           8568|\n",
            "|    DEU|           7287|\n",
            "+-------+---------------+\n",
            "only showing top 5 rows\n",
            "\n"
          ]
        }
      ]
    },
    {
      "cell_type": "markdown",
      "source": [
        "## Question 11"
      ],
      "metadata": {
        "id": "9ACyuQC4FFHy"
      }
    },
    {
      "cell_type": "markdown",
      "source": [
        "หาค่าเฉลี่ยของจำนวนวันที่จองล่วงหน้า (lead_time) แยกตามประเภทลูกค้า (customer_type)"
      ],
      "metadata": {
        "id": "W554Nr7lFIQM"
      }
    },
    {
      "cell_type": "code",
      "source": [
        "hotel_booking_df.groupby('customer_type').\\\n",
        "    agg(   \n",
        "       round(F.avg(\"lead_time\"),3). \\\n",
        "                               alias('average_lead_time (days)')   \n",
        "       ).\\\n",
        "    sort('average_lead_time (days)',\n",
        "         ascending = False).show()    # it can solve for Question 11"
      ],
      "metadata": {
        "colab": {
          "base_uri": "https://localhost:8080/"
        },
        "id": "_iaAIbOTF8wx",
        "outputId": "23dd1e18-e767-405d-f7a9-51a98494851d"
      },
      "execution_count": null,
      "outputs": [
        {
          "output_type": "stream",
          "name": "stdout",
          "text": [
            "+---------------+------------------------+\n",
            "|  customer_type|average_lead_time (days)|\n",
            "+---------------+------------------------+\n",
            "|       Contract|                  142.97|\n",
            "|Transient-Party|                 137.037|\n",
            "|      Transient|                  93.296|\n",
            "|          Group|                  55.057|\n",
            "+---------------+------------------------+\n",
            "\n"
          ]
        }
      ]
    },
    {
      "cell_type": "markdown",
      "source": [
        "## Question 12 "
      ],
      "metadata": {
        "id": "h59ap34WG8vy"
      }
    },
    {
      "cell_type": "markdown",
      "source": [
        "สร้างคอลัมน์ใหม่ชื่อ `arrival_date` ที่เก็บ timestamp ของวันที่ผู้เข้าพักมาถึงโรงแรม"
      ],
      "metadata": {
        "id": "XQ9vgh1_G_Ho"
      }
    },
    {
      "cell_type": "markdown",
      "source": [
        "Hint : arrival_date_year ,arrival_date_month และ arrival_date_day_of_month concatnate with \"- \" and change it to timestamp"
      ],
      "metadata": {
        "id": "K5RUeaBLhm7T"
      }
    },
    {
      "cell_type": "code",
      "source": [
        "# 12.1 start with review schema \n",
        "hotel_booking_df.printSchema()"
      ],
      "metadata": {
        "colab": {
          "base_uri": "https://localhost:8080/"
        },
        "id": "XvNPAaLdmmBn",
        "outputId": "52c21931-e682-4ae7-e7e5-5c3f1c9bb38f"
      },
      "execution_count": null,
      "outputs": [
        {
          "output_type": "stream",
          "name": "stdout",
          "text": [
            "root\n",
            " |-- hotel: string (nullable = true)\n",
            " |-- is_canceled: integer (nullable = true)\n",
            " |-- lead_time: integer (nullable = true)\n",
            " |-- arrival_date_year: integer (nullable = true)\n",
            " |-- arrival_date_month: string (nullable = true)\n",
            " |-- arrival_date_week_number: integer (nullable = true)\n",
            " |-- arrival_date_day_of_month: integer (nullable = true)\n",
            " |-- stays_in_weekend_nights: integer (nullable = true)\n",
            " |-- stays_in_week_nights: integer (nullable = true)\n",
            " |-- adults: integer (nullable = true)\n",
            " |-- children: string (nullable = true)\n",
            " |-- babies: integer (nullable = true)\n",
            " |-- meal: string (nullable = true)\n",
            " |-- country: string (nullable = true)\n",
            " |-- market_segment: string (nullable = true)\n",
            " |-- distribution_channel: string (nullable = true)\n",
            " |-- is_repeated_guest: integer (nullable = true)\n",
            " |-- previous_cancellations: integer (nullable = true)\n",
            " |-- previous_bookings_not_canceled: integer (nullable = true)\n",
            " |-- reserved_room_type: string (nullable = true)\n",
            " |-- assigned_room_type: string (nullable = true)\n",
            " |-- booking_changes: integer (nullable = true)\n",
            " |-- deposit_type: string (nullable = true)\n",
            " |-- agent: string (nullable = true)\n",
            " |-- company: string (nullable = true)\n",
            " |-- days_in_waiting_list: integer (nullable = true)\n",
            " |-- customer_type: string (nullable = true)\n",
            " |-- adr: double (nullable = true)\n",
            " |-- required_car_parking_spaces: integer (nullable = true)\n",
            " |-- total_of_special_requests: integer (nullable = true)\n",
            " |-- reservation_status: string (nullable = true)\n",
            " |-- reservation_status_date: timestamp (nullable = true)\n",
            "\n"
          ]
        }
      ]
    },
    {
      "cell_type": "code",
      "source": [
        "# 12.2 to cast a new column bu changing from integer to string\n",
        "hotel_booking_df = hotel_booking_df.withColumn(\"arrival_date_year\",\n",
        "                                               F.col(\"arrival_date_year\").cast(\"string\"))\n",
        "hotel_booking_df = hotel_booking_df.withColumn(\"arrival_date_day_of_month\",\n",
        "                                               F.col(\"arrival_date_day_of_month\").cast(\"string\"))"
      ],
      "metadata": {
        "id": "haiKis2Er1JC"
      },
      "execution_count": null,
      "outputs": []
    },
    {
      "cell_type": "code",
      "source": [
        "# 12.3 confirm this change by printSchema()\n",
        "hotel_booking_df.printSchema()"
      ],
      "metadata": {
        "colab": {
          "base_uri": "https://localhost:8080/"
        },
        "id": "ojb1RWrnsdoi",
        "outputId": "e6bbbbcb-111e-49e6-89a7-978ce2e40b6b"
      },
      "execution_count": null,
      "outputs": [
        {
          "output_type": "stream",
          "name": "stdout",
          "text": [
            "root\n",
            " |-- hotel: string (nullable = true)\n",
            " |-- is_canceled: integer (nullable = true)\n",
            " |-- lead_time: integer (nullable = true)\n",
            " |-- arrival_date_year: string (nullable = true)\n",
            " |-- arrival_date_month: string (nullable = true)\n",
            " |-- arrival_date_week_number: integer (nullable = true)\n",
            " |-- arrival_date_day_of_month: string (nullable = true)\n",
            " |-- stays_in_weekend_nights: integer (nullable = true)\n",
            " |-- stays_in_week_nights: integer (nullable = true)\n",
            " |-- adults: integer (nullable = true)\n",
            " |-- children: string (nullable = true)\n",
            " |-- babies: integer (nullable = true)\n",
            " |-- meal: string (nullable = true)\n",
            " |-- country: string (nullable = true)\n",
            " |-- market_segment: string (nullable = true)\n",
            " |-- distribution_channel: string (nullable = true)\n",
            " |-- is_repeated_guest: integer (nullable = true)\n",
            " |-- previous_cancellations: integer (nullable = true)\n",
            " |-- previous_bookings_not_canceled: integer (nullable = true)\n",
            " |-- reserved_room_type: string (nullable = true)\n",
            " |-- assigned_room_type: string (nullable = true)\n",
            " |-- booking_changes: integer (nullable = true)\n",
            " |-- deposit_type: string (nullable = true)\n",
            " |-- agent: string (nullable = true)\n",
            " |-- company: string (nullable = true)\n",
            " |-- days_in_waiting_list: integer (nullable = true)\n",
            " |-- customer_type: string (nullable = true)\n",
            " |-- adr: double (nullable = true)\n",
            " |-- required_car_parking_spaces: integer (nullable = true)\n",
            " |-- total_of_special_requests: integer (nullable = true)\n",
            " |-- reservation_status: string (nullable = true)\n",
            " |-- reservation_status_date: timestamp (nullable = true)\n",
            "\n"
          ]
        }
      ]
    },
    {
      "cell_type": "code",
      "source": [
        "# 12.4 start by creat a new column  named arrival_date\n",
        "# to place it as last col at hotel_booking_df\n",
        "hotel_booking_df = \\\n",
        "hotel_booking_df.\\\n",
        "    withColumn('arrival_date_zero' ,\n",
        "                   F.concat(\n",
        "                        hotel_booking_df.arrival_date_year,F.lit('-'),\n",
        "                        hotel_booking_df.arrival_date_month,F.lit('-'),\n",
        "                        hotel_booking_df.arrival_date_day_of_month     \n",
        "                           )   \n",
        "              )\n",
        " \n",
        "hotel_booking_df.show(3)"
      ],
      "metadata": {
        "colab": {
          "base_uri": "https://localhost:8080/"
        },
        "id": "EZanjsTQKsot",
        "outputId": "38cb588f-ac65-4014-c469-c3022f541412"
      },
      "execution_count": null,
      "outputs": [
        {
          "output_type": "stream",
          "name": "stdout",
          "text": [
            "+------------+-----------+---------+-----------------+------------------+------------------------+-------------------------+-----------------------+--------------------+------+--------+------+----+-------+--------------+--------------------+-----------------+----------------------+------------------------------+------------------+------------------+---------------+------------+-----+-------+--------------------+-------------+----+---------------------------+-------------------------+------------------+-----------------------+-----------------+\n",
            "|       hotel|is_canceled|lead_time|arrival_date_year|arrival_date_month|arrival_date_week_number|arrival_date_day_of_month|stays_in_weekend_nights|stays_in_week_nights|adults|children|babies|meal|country|market_segment|distribution_channel|is_repeated_guest|previous_cancellations|previous_bookings_not_canceled|reserved_room_type|assigned_room_type|booking_changes|deposit_type|agent|company|days_in_waiting_list|customer_type| adr|required_car_parking_spaces|total_of_special_requests|reservation_status|reservation_status_date|arrival_date_zero|\n",
            "+------------+-----------+---------+-----------------+------------------+------------------------+-------------------------+-----------------------+--------------------+------+--------+------+----+-------+--------------+--------------------+-----------------+----------------------+------------------------------+------------------+------------------+---------------+------------+-----+-------+--------------------+-------------+----+---------------------------+-------------------------+------------------+-----------------------+-----------------+\n",
            "|Resort Hotel|          0|      342|             2015|              July|                      27|                        1|                      0|                   0|     2|       0|     0|  BB|    PRT|        Direct|              Direct|                0|                     0|                             0|                 C|                 C|              3|  No Deposit| NULL|   NULL|                   0|    Transient| 0.0|                          0|                        0|         Check-Out|    2015-07-01 00:00:00|      2015-July-1|\n",
            "|Resort Hotel|          0|      737|             2015|              July|                      27|                        1|                      0|                   0|     2|       0|     0|  BB|    PRT|        Direct|              Direct|                0|                     0|                             0|                 C|                 C|              4|  No Deposit| NULL|   NULL|                   0|    Transient| 0.0|                          0|                        0|         Check-Out|    2015-07-01 00:00:00|      2015-July-1|\n",
            "|Resort Hotel|          0|        7|             2015|              July|                      27|                        1|                      0|                   1|     1|       0|     0|  BB|    GBR|        Direct|              Direct|                0|                     0|                             0|                 A|                 C|              0|  No Deposit| NULL|   NULL|                   0|    Transient|75.0|                          0|                        0|         Check-Out|    2015-07-02 00:00:00|      2015-July-1|\n",
            "+------------+-----------+---------+-----------------+------------------+------------------------+-------------------------+-----------------------+--------------------+------+--------+------+----+-------+--------------+--------------------+-----------------+----------------------+------------------------------+------------------+------------------+---------------+------------+-----+-------+--------------------+-------------+----+---------------------------+-------------------------+------------------+-----------------------+-----------------+\n",
            "only showing top 3 rows\n",
            "\n"
          ]
        }
      ]
    },
    {
      "cell_type": "code",
      "source": [
        "# 12.5 create a new col (arrival_date) from existed column (arrival_date_zero)\n",
        "\n",
        "hotel_booking_df = \\\n",
        "hotel_booking_df.\\\n",
        "    withColumn('arrival_date' ,\n",
        "                   F.to_timestamp(\n",
        "                       hotel_booking_df.arrival_date_zero, \n",
        "                       'yyyy-MMMM-d' \n",
        "                                 )\n",
        "                       )\n",
        "     "
      ],
      "metadata": {
        "id": "ELpORZgo22Oc"
      },
      "execution_count": null,
      "outputs": []
    },
    {
      "cell_type": "code",
      "source": [
        "# 12.6 to check our newly created column named arrival_date \n",
        "\n",
        "#It is string type (cuurrently)\n",
        "hotel_booking_df.printSchema()"
      ],
      "metadata": {
        "colab": {
          "base_uri": "https://localhost:8080/"
        },
        "id": "92ddtxlyX33j",
        "outputId": "80dbf6ed-67a8-440c-c04e-e677aed11cbd"
      },
      "execution_count": null,
      "outputs": [
        {
          "output_type": "stream",
          "name": "stdout",
          "text": [
            "root\n",
            " |-- hotel: string (nullable = true)\n",
            " |-- is_canceled: integer (nullable = true)\n",
            " |-- lead_time: integer (nullable = true)\n",
            " |-- arrival_date_year: string (nullable = true)\n",
            " |-- arrival_date_month: string (nullable = true)\n",
            " |-- arrival_date_week_number: integer (nullable = true)\n",
            " |-- arrival_date_day_of_month: string (nullable = true)\n",
            " |-- stays_in_weekend_nights: integer (nullable = true)\n",
            " |-- stays_in_week_nights: integer (nullable = true)\n",
            " |-- adults: integer (nullable = true)\n",
            " |-- children: string (nullable = true)\n",
            " |-- babies: integer (nullable = true)\n",
            " |-- meal: string (nullable = true)\n",
            " |-- country: string (nullable = true)\n",
            " |-- market_segment: string (nullable = true)\n",
            " |-- distribution_channel: string (nullable = true)\n",
            " |-- is_repeated_guest: integer (nullable = true)\n",
            " |-- previous_cancellations: integer (nullable = true)\n",
            " |-- previous_bookings_not_canceled: integer (nullable = true)\n",
            " |-- reserved_room_type: string (nullable = true)\n",
            " |-- assigned_room_type: string (nullable = true)\n",
            " |-- booking_changes: integer (nullable = true)\n",
            " |-- deposit_type: string (nullable = true)\n",
            " |-- agent: string (nullable = true)\n",
            " |-- company: string (nullable = true)\n",
            " |-- days_in_waiting_list: integer (nullable = true)\n",
            " |-- customer_type: string (nullable = true)\n",
            " |-- adr: double (nullable = true)\n",
            " |-- required_car_parking_spaces: integer (nullable = true)\n",
            " |-- total_of_special_requests: integer (nullable = true)\n",
            " |-- reservation_status: string (nullable = true)\n",
            " |-- reservation_status_date: timestamp (nullable = true)\n",
            " |-- arrival_date_zero: string (nullable = true)\n",
            " |-- arrival_date: timestamp (nullable = true)\n",
            "\n"
          ]
        }
      ]
    },
    {
      "cell_type": "code",
      "source": [
        "# 12.7 remove an unneccessary column & show all in our table\n",
        "hotel_booking_df.drop(\n",
        "    F.col('arrival_date_zero')\n",
        "                     ).show(5)   # it can solve for Question 12\n"
      ],
      "metadata": {
        "colab": {
          "base_uri": "https://localhost:8080/"
        },
        "id": "qJEKP2uT31n4",
        "outputId": "6982de4a-c030-4849-fd3d-218f89e11616"
      },
      "execution_count": null,
      "outputs": [
        {
          "output_type": "stream",
          "name": "stdout",
          "text": [
            "+------------+-----------+---------+-----------------+------------------+------------------------+-------------------------+-----------------------+--------------------+------+--------+------+----+-------+--------------+--------------------+-----------------+----------------------+------------------------------+------------------+------------------+---------------+------------+-----+-------+--------------------+-------------+----+---------------------------+-------------------------+------------------+-----------------------+-------------------+\n",
            "|       hotel|is_canceled|lead_time|arrival_date_year|arrival_date_month|arrival_date_week_number|arrival_date_day_of_month|stays_in_weekend_nights|stays_in_week_nights|adults|children|babies|meal|country|market_segment|distribution_channel|is_repeated_guest|previous_cancellations|previous_bookings_not_canceled|reserved_room_type|assigned_room_type|booking_changes|deposit_type|agent|company|days_in_waiting_list|customer_type| adr|required_car_parking_spaces|total_of_special_requests|reservation_status|reservation_status_date|       arrival_date|\n",
            "+------------+-----------+---------+-----------------+------------------+------------------------+-------------------------+-----------------------+--------------------+------+--------+------+----+-------+--------------+--------------------+-----------------+----------------------+------------------------------+------------------+------------------+---------------+------------+-----+-------+--------------------+-------------+----+---------------------------+-------------------------+------------------+-----------------------+-------------------+\n",
            "|Resort Hotel|          0|      342|             2015|              July|                      27|                        1|                      0|                   0|     2|       0|     0|  BB|    PRT|        Direct|              Direct|                0|                     0|                             0|                 C|                 C|              3|  No Deposit| NULL|   NULL|                   0|    Transient| 0.0|                          0|                        0|         Check-Out|    2015-07-01 00:00:00|2015-07-01 00:00:00|\n",
            "|Resort Hotel|          0|      737|             2015|              July|                      27|                        1|                      0|                   0|     2|       0|     0|  BB|    PRT|        Direct|              Direct|                0|                     0|                             0|                 C|                 C|              4|  No Deposit| NULL|   NULL|                   0|    Transient| 0.0|                          0|                        0|         Check-Out|    2015-07-01 00:00:00|2015-07-01 00:00:00|\n",
            "|Resort Hotel|          0|        7|             2015|              July|                      27|                        1|                      0|                   1|     1|       0|     0|  BB|    GBR|        Direct|              Direct|                0|                     0|                             0|                 A|                 C|              0|  No Deposit| NULL|   NULL|                   0|    Transient|75.0|                          0|                        0|         Check-Out|    2015-07-02 00:00:00|2015-07-01 00:00:00|\n",
            "|Resort Hotel|          0|       13|             2015|              July|                      27|                        1|                      0|                   1|     1|       0|     0|  BB|    GBR|     Corporate|           Corporate|                0|                     0|                             0|                 A|                 A|              0|  No Deposit|  304|   NULL|                   0|    Transient|75.0|                          0|                        0|         Check-Out|    2015-07-02 00:00:00|2015-07-01 00:00:00|\n",
            "|Resort Hotel|          0|       14|             2015|              July|                      27|                        1|                      0|                   2|     2|       0|     0|  BB|    GBR|     Online TA|               TA/TO|                0|                     0|                             0|                 A|                 A|              0|  No Deposit|  240|   NULL|                   0|    Transient|98.0|                          0|                        1|         Check-Out|    2015-07-03 00:00:00|2015-07-01 00:00:00|\n",
            "+------------+-----------+---------+-----------------+------------------+------------------------+-------------------------+-----------------------+--------------------+------+--------+------+----+-------+--------------+--------------------+-----------------+----------------------+------------------------------+------------------+------------------+---------------+------------+-----+-------+--------------------+-------------+----+---------------------------+-------------------------+------------------+-----------------------+-------------------+\n",
            "only showing top 5 rows\n",
            "\n"
          ]
        }
      ]
    },
    {
      "cell_type": "markdown",
      "source": [
        "## Question 13"
      ],
      "metadata": {
        "id": "yAVBVEY4buKx"
      }
    },
    {
      "cell_type": "markdown",
      "source": [
        "สรุปจำนวนผู้เข้าพักที่มาถึงโรงแรมในแต่ละวัน ให้ใช้คอลัมน์ arrival_date ในการระบุวันมาถึง ไม่นับลูกค่าที่ไม่มา\n",
        "(is_canceled เป็น 1) เรียงลำดับตามวันที่เข้าพัก"
      ],
      "metadata": {
        "id": "-oye8lkIHS3_"
      }
    },
    {
      "cell_type": "code",
      "source": [
        "# 13.1 use data from Question 12 to group & filter and then show only top 10 customers\n",
        "\n",
        "hotel_book_wo_canceled = \\\n",
        "hotel_booking_df.filter( hotel_booking_df.is_canceled == 0 ).\\\n",
        "                 groupby('arrival_date').\\\n",
        "                 agg(F.count( \n",
        "                              hotel_booking_df.arrival_date).\\\n",
        "                              alias('Number_of_customers')\n",
        "                     ).\\\n",
        "                 sort('arrival_date',\n",
        "                      ascending = True)\n",
        "            \n",
        "\n",
        "hotel_book_wo_canceled.show(10)\n",
        " # it can solve for Question 13"
      ],
      "metadata": {
        "id": "ooLCQ-htNUWM",
        "colab": {
          "base_uri": "https://localhost:8080/"
        },
        "outputId": "73d2425f-8026-435d-cbef-23c2b314885f"
      },
      "execution_count": null,
      "outputs": [
        {
          "output_type": "stream",
          "name": "stdout",
          "text": [
            "+-------------------+-------------------+\n",
            "|       arrival_date|Number_of_customers|\n",
            "+-------------------+-------------------+\n",
            "|2015-07-01 00:00:00|                103|\n",
            "|2015-07-02 00:00:00|                 36|\n",
            "|2015-07-03 00:00:00|                 37|\n",
            "|2015-07-04 00:00:00|                 45|\n",
            "|2015-07-05 00:00:00|                 37|\n",
            "|2015-07-06 00:00:00|                 41|\n",
            "|2015-07-07 00:00:00|                 29|\n",
            "|2015-07-08 00:00:00|                 45|\n",
            "|2015-07-09 00:00:00|                 29|\n",
            "|2015-07-10 00:00:00|                 42|\n",
            "+-------------------+-------------------+\n",
            "only showing top 10 rows\n",
            "\n"
          ]
        }
      ]
    },
    {
      "cell_type": "markdown",
      "source": [
        "## Question 14 "
      ],
      "metadata": {
        "id": "Jx9A_C4ph8Jp"
      }
    },
    {
      "cell_type": "markdown",
      "source": [
        "แสดงจำนวนการจองรายเดือนแยกตามโรงแรม (hotel) ให้ใช้คอลัมน์ arrival_date เป็นหลักในการตัดสินใจว่าการ\n",
        "จองเกิดขึ้นในเดือนไหน (ระวังว่า ต้องสรุปข้อมูลตามช่วงเวลาหนึ่งเดือน ไม่ได้สรุปข้อมูลเดือนที่ชื่อเหมือนกันแต่คน\n",
        "ละปี)"
      ],
      "metadata": {
        "id": "kabaDflMh-BF"
      }
    },
    {
      "cell_type": "code",
      "source": [
        "# 14.1 start with creat a new column named year_month arrilval\n",
        "hotel_booking_df = \\\n",
        "hotel_booking_df.\\\n",
        "      withColumn('year_month_arrival',\n",
        "                       F.date_format(\n",
        "                           hotel_booking_df.arrival_date ,\n",
        "                           'yyyy-MM'\n",
        "                                    )\n",
        "                                        )\n"
      ],
      "metadata": {
        "id": "DhE7HrE-PMad"
      },
      "execution_count": null,
      "outputs": []
    },
    {
      "cell_type": "code",
      "source": [
        "hotel_booking_df.show(10)"
      ],
      "metadata": {
        "colab": {
          "base_uri": "https://localhost:8080/"
        },
        "id": "Q3ewr6_YSlL4",
        "outputId": "0af592fb-39d7-43db-a39d-421cd37f3097"
      },
      "execution_count": null,
      "outputs": [
        {
          "output_type": "stream",
          "name": "stdout",
          "text": [
            "+------------+-----------+---------+-----------------+------------------+------------------------+-------------------------+-----------------------+--------------------+------+--------+------+----+-------+--------------+--------------------+-----------------+----------------------+------------------------------+------------------+------------------+---------------+------------+-----+-------+--------------------+-------------+-----+---------------------------+-------------------------+------------------+-----------------------+-----------------+-------------------+------------------+\n",
            "|       hotel|is_canceled|lead_time|arrival_date_year|arrival_date_month|arrival_date_week_number|arrival_date_day_of_month|stays_in_weekend_nights|stays_in_week_nights|adults|children|babies|meal|country|market_segment|distribution_channel|is_repeated_guest|previous_cancellations|previous_bookings_not_canceled|reserved_room_type|assigned_room_type|booking_changes|deposit_type|agent|company|days_in_waiting_list|customer_type|  adr|required_car_parking_spaces|total_of_special_requests|reservation_status|reservation_status_date|arrival_date_zero|       arrival_date|year_month_arrival|\n",
            "+------------+-----------+---------+-----------------+------------------+------------------------+-------------------------+-----------------------+--------------------+------+--------+------+----+-------+--------------+--------------------+-----------------+----------------------+------------------------------+------------------+------------------+---------------+------------+-----+-------+--------------------+-------------+-----+---------------------------+-------------------------+------------------+-----------------------+-----------------+-------------------+------------------+\n",
            "|Resort Hotel|          0|      342|             2015|              July|                      27|                        1|                      0|                   0|     2|       0|     0|  BB|    PRT|        Direct|              Direct|                0|                     0|                             0|                 C|                 C|              3|  No Deposit| NULL|   NULL|                   0|    Transient|  0.0|                          0|                        0|         Check-Out|    2015-07-01 00:00:00|      2015-July-1|2015-07-01 00:00:00|           2015-07|\n",
            "|Resort Hotel|          0|      737|             2015|              July|                      27|                        1|                      0|                   0|     2|       0|     0|  BB|    PRT|        Direct|              Direct|                0|                     0|                             0|                 C|                 C|              4|  No Deposit| NULL|   NULL|                   0|    Transient|  0.0|                          0|                        0|         Check-Out|    2015-07-01 00:00:00|      2015-July-1|2015-07-01 00:00:00|           2015-07|\n",
            "|Resort Hotel|          0|        7|             2015|              July|                      27|                        1|                      0|                   1|     1|       0|     0|  BB|    GBR|        Direct|              Direct|                0|                     0|                             0|                 A|                 C|              0|  No Deposit| NULL|   NULL|                   0|    Transient| 75.0|                          0|                        0|         Check-Out|    2015-07-02 00:00:00|      2015-July-1|2015-07-01 00:00:00|           2015-07|\n",
            "|Resort Hotel|          0|       13|             2015|              July|                      27|                        1|                      0|                   1|     1|       0|     0|  BB|    GBR|     Corporate|           Corporate|                0|                     0|                             0|                 A|                 A|              0|  No Deposit|  304|   NULL|                   0|    Transient| 75.0|                          0|                        0|         Check-Out|    2015-07-02 00:00:00|      2015-July-1|2015-07-01 00:00:00|           2015-07|\n",
            "|Resort Hotel|          0|       14|             2015|              July|                      27|                        1|                      0|                   2|     2|       0|     0|  BB|    GBR|     Online TA|               TA/TO|                0|                     0|                             0|                 A|                 A|              0|  No Deposit|  240|   NULL|                   0|    Transient| 98.0|                          0|                        1|         Check-Out|    2015-07-03 00:00:00|      2015-July-1|2015-07-01 00:00:00|           2015-07|\n",
            "|Resort Hotel|          0|       14|             2015|              July|                      27|                        1|                      0|                   2|     2|       0|     0|  BB|    GBR|     Online TA|               TA/TO|                0|                     0|                             0|                 A|                 A|              0|  No Deposit|  240|   NULL|                   0|    Transient| 98.0|                          0|                        1|         Check-Out|    2015-07-03 00:00:00|      2015-July-1|2015-07-01 00:00:00|           2015-07|\n",
            "|Resort Hotel|          0|        0|             2015|              July|                      27|                        1|                      0|                   2|     2|       0|     0|  BB|    PRT|        Direct|              Direct|                0|                     0|                             0|                 C|                 C|              0|  No Deposit| NULL|   NULL|                   0|    Transient|107.0|                          0|                        0|         Check-Out|    2015-07-03 00:00:00|      2015-July-1|2015-07-01 00:00:00|           2015-07|\n",
            "|Resort Hotel|          0|        9|             2015|              July|                      27|                        1|                      0|                   2|     2|       0|     0|  FB|    PRT|        Direct|              Direct|                0|                     0|                             0|                 C|                 C|              0|  No Deposit|  303|   NULL|                   0|    Transient|103.0|                          0|                        1|         Check-Out|    2015-07-03 00:00:00|      2015-July-1|2015-07-01 00:00:00|           2015-07|\n",
            "|Resort Hotel|          1|       85|             2015|              July|                      27|                        1|                      0|                   3|     2|       0|     0|  BB|    PRT|     Online TA|               TA/TO|                0|                     0|                             0|                 A|                 A|              0|  No Deposit|  240|   NULL|                   0|    Transient| 82.0|                          0|                        1|          Canceled|    2015-05-06 00:00:00|      2015-July-1|2015-07-01 00:00:00|           2015-07|\n",
            "|Resort Hotel|          1|       75|             2015|              July|                      27|                        1|                      0|                   3|     2|       0|     0|  HB|    PRT| Offline TA/TO|               TA/TO|                0|                     0|                             0|                 D|                 D|              0|  No Deposit|   15|   NULL|                   0|    Transient|105.5|                          0|                        0|          Canceled|    2015-04-22 00:00:00|      2015-July-1|2015-07-01 00:00:00|           2015-07|\n",
            "+------------+-----------+---------+-----------------+------------------+------------------------+-------------------------+-----------------------+--------------------+------+--------+------+----+-------+--------------+--------------------+-----------------+----------------------+------------------------------+------------------+------------------+---------------+------------+-----+-------+--------------------+-------------+-----+---------------------------+-------------------------+------------------+-----------------------+-----------------+-------------------+------------------+\n",
            "only showing top 10 rows\n",
            "\n"
          ]
        }
      ]
    },
    {
      "cell_type": "code",
      "source": [
        "# 14.2 to view only year-month info\n",
        "\n",
        "hotel_booking_yr_mo_df = \\\n",
        "hotel_booking_df.\\\n",
        "        groupby('hotel','year_month_arrival').\\\n",
        "        agg(F.count( \n",
        "                    hotel_booking_df.year_month_arrival).\\\n",
        "                              alias('Monthly_customer_No')\\\n",
        "            ). \\\n",
        "        sort( ['year_month_arrival','Monthly_customer_No'],\n",
        "              ascending = [ True , False]\n",
        "            )\n",
        "             \n",
        "hotel_booking_yr_mo_df.show(10)\n",
        " # it can solve for Question 14\n"
      ],
      "metadata": {
        "colab": {
          "base_uri": "https://localhost:8080/"
        },
        "id": "50U2P0s6fUvP",
        "outputId": "bc062015-2106-4e7a-f14e-5cd8f6bf5fd7"
      },
      "execution_count": null,
      "outputs": [
        {
          "output_type": "stream",
          "name": "stdout",
          "text": [
            "+------------+------------------+-------------------+\n",
            "|       hotel|year_month_arrival|Monthly_customer_No|\n",
            "+------------+------------------+-------------------+\n",
            "|  City Hotel|           2015-07|               1398|\n",
            "|Resort Hotel|           2015-07|               1378|\n",
            "|  City Hotel|           2015-08|               2480|\n",
            "|Resort Hotel|           2015-08|               1409|\n",
            "|  City Hotel|           2015-09|               3529|\n",
            "|Resort Hotel|           2015-09|               1585|\n",
            "|  City Hotel|           2015-10|               3386|\n",
            "|Resort Hotel|           2015-10|               1571|\n",
            "|  City Hotel|           2015-11|               1235|\n",
            "|Resort Hotel|           2015-11|               1105|\n",
            "+------------+------------------+-------------------+\n",
            "only showing top 10 rows\n",
            "\n"
          ]
        }
      ]
    },
    {
      "cell_type": "markdown",
      "source": [
        "## Question 15"
      ],
      "metadata": {
        "id": "VJcRPOczfAC4"
      }
    },
    {
      "cell_type": "markdown",
      "source": [
        "สรุปจำนวนผู้เข้าพักที่มาถึงโรงแรมในแต่ละวันรวมย้อนหลังไป 6 วัน นั่นคือแถวที่แสดงวันที่ 2017-03-07 จะบวก\n",
        "รวมจำนวนผู้เข้าพักตั้งแต่วันที่ 2017-03-07 ย้อนไปจนถึง 2017-03-01 ให้ใช้คอลัมน์ arrival_date ในการระบุวันมาถึง ไม่นับลูกค้าที่ไม่มา (is_canceled เป็น 1)"
      ],
      "metadata": {
        "id": "5haLItKl5KdE"
      }
    },
    {
      "cell_type": "markdown",
      "source": [
        "Remark : ข้อนี้ควรใช้ Window Function"
      ],
      "metadata": {
        "id": "xlrVn0jD5cgA"
      }
    },
    {
      "cell_type": "markdown",
      "source": [
        "![image.png](data:image/png;base64,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)"
      ],
      "metadata": {
        "id": "-tcAS4k35k4Y"
      }
    },
    {
      "cell_type": "code",
      "source": [
        "# 15.1 import window function\n",
        "# window function will assist to  split data by time difference\n",
        "from pyspark.sql import Window"
      ],
      "metadata": {
        "id": "soG8e8hhwRxr"
      },
      "execution_count": null,
      "outputs": []
    },
    {
      "cell_type": "code",
      "source": [
        "# 15.2 select only confirmed order -- > group it by arrival date and count -->\n",
        "#  sort that total numbers of booking order in each arrival date in ascending order\n",
        "daily_count_df = hotel_booking_df.filter('is_canceled = 0').\\\n",
        "                                  groupby('arrival_date').\\\n",
        "                                  count().\\\n",
        "                                  sort('arrival_date')"
      ],
      "metadata": {
        "id": "XSg2l_SwvRSh"
      },
      "execution_count": null,
      "outputs": []
    },
    {
      "cell_type": "code",
      "source": [
        "# 15.3 create a new object using window function + rowsBetween\n",
        "\n",
        "## 15.3.1 using window function to group data by duration (from time to time)\n",
        "## 15.3.2 using orderBy() ( in window()  ) to create a new window\n",
        "##        by ordering data by specified column( this case is 'arrival_date')\n",
        "## 15.3.3 using row between to create a sub-table from row index\n",
        "##        previously new window has been created from data from arrival date and from our assignment ,\n",
        "##        6 day backward data is needed , so we need to create a new subfolder using  -6 \n",
        "\n",
        "window_7days = Window.orderBy('arrival_date').rowsBetween(-6, Window.currentRow)\n",
        "\n"
      ],
      "metadata": {
        "id": "HQp7bp1Szrta"
      },
      "execution_count": null,
      "outputs": []
    },
    {
      "cell_type": "code",
      "source": [
        "# 15.4 select column arrival date, count , and count for 7 days \n",
        "#      (and rename our newly created coulumn to be easier to understand as 'cout 7 days' )\n",
        "daily_count_weekly_report = daily_count_df.\\\n",
        "                            select('arrival_date', 'count', F.sum('count').over(window_7days).\\\n",
        "                                                                        alias('count 7 days'))"
      ],
      "metadata": {
        "id": "1wh9Dr0mzrhn"
      },
      "execution_count": null,
      "outputs": []
    },
    {
      "cell_type": "code",
      "source": [
        "#15.5 show our summary from article 15.4 by show the first 10 days\n",
        "daily_count_weekly_report.show(10)"
      ],
      "metadata": {
        "colab": {
          "base_uri": "https://localhost:8080/"
        },
        "id": "XgbxY7Nv5hjZ",
        "outputId": "e4c63b90-d38c-4329-9e85-dbfd5a98d96d"
      },
      "execution_count": null,
      "outputs": [
        {
          "output_type": "stream",
          "name": "stdout",
          "text": [
            "+-------------------+-----+------------+\n",
            "|       arrival_date|count|count 7 days|\n",
            "+-------------------+-----+------------+\n",
            "|2015-07-01 00:00:00|  103|         103|\n",
            "|2015-07-02 00:00:00|   36|         139|\n",
            "|2015-07-03 00:00:00|   37|         176|\n",
            "|2015-07-04 00:00:00|   45|         221|\n",
            "|2015-07-05 00:00:00|   37|         258|\n",
            "|2015-07-06 00:00:00|   41|         299|\n",
            "|2015-07-07 00:00:00|   29|         328|\n",
            "|2015-07-08 00:00:00|   45|         270|\n",
            "|2015-07-09 00:00:00|   29|         263|\n",
            "|2015-07-10 00:00:00|   42|         268|\n",
            "+-------------------+-----+------------+\n",
            "only showing top 10 rows\n",
            "\n"
          ]
        }
      ]
    },
    {
      "cell_type": "markdown",
      "source": [
        "## Question 16"
      ],
      "metadata": {
        "id": "euTlXD-t5w-z"
      }
    },
    {
      "cell_type": "markdown",
      "source": [
        "เปิดไฟล์ชื่อ ISO3166.csv ซึ่งมีรหัสประเทศ 3 ตัวอักษรกับชื่อประเทศ แสดงรหัสประเทศที่ `มีในตารางแต่ไม่มีในไฟล์\n",
        "ISO3166.csv` (คำใบ้: มี 3 รหัส) ก่อน join ให้เปลี่ยนชื่อคอลัมน์ของตารางจากไฟล์ ISO3166.csv ก่อนให้ชื่อ\n",
        "คอลัมน์ของรหัสประเทศตรงกัน"
      ],
      "metadata": {
        "id": "mjA1XZw95qYN"
      }
    },
    {
      "cell_type": "code",
      "source": [
        "# 16.1 Starting with upload file to specified path\n",
        "iso_3166_df = spark.read.csv('/content/drive/MyDrive/##ku_int_ds2022/ISO3166.csv',\n",
        "                             header=True, \n",
        "                             inferSchema=True)"
      ],
      "metadata": {
        "id": "fmEtY0IK6WvF"
      },
      "execution_count": null,
      "outputs": []
    },
    {
      "cell_type": "code",
      "source": [
        "# 16.2 to view our defined schema \n",
        "iso_3166_df.printSchema()"
      ],
      "metadata": {
        "id": "4V4dUjkl64Ax",
        "colab": {
          "base_uri": "https://localhost:8080/"
        },
        "outputId": "06b6783c-fd3e-40d7-e7c5-b48a6bad4cab"
      },
      "execution_count": null,
      "outputs": [
        {
          "output_type": "stream",
          "name": "stdout",
          "text": [
            "root\n",
            " |-- Country: string (nullable = true)\n",
            " |-- Alpha_2_code: string (nullable = true)\n",
            " |-- Alpha_3_code: string (nullable = true)\n",
            " |-- Numeric: integer (nullable = true)\n",
            "\n"
          ]
        }
      ]
    },
    {
      "cell_type": "code",
      "source": [
        "# 16.3 to view data in our iso_3166_df partially\n",
        "iso_3166_df.show(5)"
      ],
      "metadata": {
        "id": "f8A2itze68h3",
        "colab": {
          "base_uri": "https://localhost:8080/"
        },
        "outputId": "c8368426-af27-47f1-e57d-d3c17e427b0e"
      },
      "execution_count": null,
      "outputs": [
        {
          "output_type": "stream",
          "name": "stdout",
          "text": [
            "+--------------+------------+------------+-------+\n",
            "|       Country|Alpha_2_code|Alpha_3_code|Numeric|\n",
            "+--------------+------------+------------+-------+\n",
            "|   Afghanistan|          AF|         AFG|      4|\n",
            "|       Albania|          AL|         ALB|      8|\n",
            "|       Algeria|          DZ|         DZA|     12|\n",
            "|American Samoa|          AS|         ASM|     16|\n",
            "|       Andorra|          AD|         AND|     20|\n",
            "+--------------+------------+------------+-------+\n",
            "only showing top 5 rows\n",
            "\n"
          ]
        }
      ]
    },
    {
      "cell_type": "code",
      "source": [
        "# 16.4 run this command to ask a permission to run data as SQL-style\n",
        "iso_3166_df.createOrReplaceTempView('iso_3166_df')"
      ],
      "metadata": {
        "id": "kV8qIM6v2pnR"
      },
      "execution_count": null,
      "outputs": []
    },
    {
      "cell_type": "code",
      "source": [
        "# 16.5.1 from given hint : we will check the number of country from our data \n",
        "# both from iso_3166_df & hotel_booking_df\n",
        "\n",
        "# starting with iso_3166_df\n",
        "spark.sql('SELECT COUNT(DISTINCT(Alpha_2_code)) \\\n",
        "                            AS N_Cus_Country_ISO3166\\\n",
        "            FROM iso_3166_df').show()"
      ],
      "metadata": {
        "id": "zlbnuGeb03IQ",
        "colab": {
          "base_uri": "https://localhost:8080/"
        },
        "outputId": "7daa8d24-c80a-429c-f648-17879c360d27"
      },
      "execution_count": null,
      "outputs": [
        {
          "output_type": "stream",
          "name": "stdout",
          "text": [
            "+---------------------+\n",
            "|N_Cus_Country_ISO3166|\n",
            "+---------------------+\n",
            "|                  248|\n",
            "+---------------------+\n",
            "\n"
          ]
        }
      ]
    },
    {
      "cell_type": "code",
      "source": [
        "# 16.5.2 check the number of country from  hotel_booking_df # same with Q8 previously\n",
        "spark.sql('SELECT COUNT(DISTINCT(country)) \\\n",
        "                        AS N_cus_Country_Hotel_BK\\\n",
        "            FROM hotel_booking_df').show() "
      ],
      "metadata": {
        "id": "88xyDBPp1GdI",
        "colab": {
          "base_uri": "https://localhost:8080/"
        },
        "outputId": "49f6b91d-5d0e-4d70-e689-1dfee1b8d3e6"
      },
      "execution_count": null,
      "outputs": [
        {
          "output_type": "stream",
          "name": "stdout",
          "text": [
            "+----------------------+\n",
            "|N_cus_Country_Hotel_BK|\n",
            "+----------------------+\n",
            "|                   178|\n",
            "+----------------------+\n",
            "\n"
          ]
        }
      ]
    },
    {
      "cell_type": "code",
      "source": [
        "# 16.6 rename column : Alpha_2_code in iso_3166_df\n",
        "# we will use this column to join with hotel_booking_df\n",
        "\n",
        "iso_3166_df = iso_3166_df.withColumnRenamed('Country','Full_country_name') "
      ],
      "metadata": {
        "id": "hEWFojTm7s7V"
      },
      "execution_count": null,
      "outputs": []
    },
    {
      "cell_type": "code",
      "source": [
        "iso_3166_df = iso_3166_df.withColumnRenamed('Alpha_3_code','country') \n",
        "iso_3166_df.show(5)\n",
        "# Pls be noted that 'Country' - (Start with  uppercase) -> Country full name\n",
        "# but 'country' - (all lowercase) -> Alpla_3_code previously ########"
      ],
      "metadata": {
        "colab": {
          "base_uri": "https://localhost:8080/"
        },
        "id": "UEhxhK4eA2T_",
        "outputId": "496e3727-24cd-4c21-d390-35a911ed8635"
      },
      "execution_count": null,
      "outputs": [
        {
          "output_type": "stream",
          "name": "stdout",
          "text": [
            "+-----------------+------------+-------+-------+\n",
            "|Full_country_name|Alpha_2_code|country|Numeric|\n",
            "+-----------------+------------+-------+-------+\n",
            "|      Afghanistan|          AF|    AFG|      4|\n",
            "|          Albania|          AL|    ALB|      8|\n",
            "|          Algeria|          DZ|    DZA|     12|\n",
            "|   American Samoa|          AS|    ASM|     16|\n",
            "|          Andorra|          AD|    AND|     20|\n",
            "+-----------------+------------+-------+-------+\n",
            "only showing top 5 rows\n",
            "\n"
          ]
        }
      ]
    },
    {
      "cell_type": "code",
      "source": [
        "# 16.4 run this command to ask a permission to run data as SQL-style\n",
        "iso_3166_df.createOrReplaceTempView('iso_3166_df')"
      ],
      "metadata": {
        "id": "uV_EhVvw6ZcR"
      },
      "execution_count": null,
      "outputs": []
    },
    {
      "cell_type": "code",
      "source": [
        "# 16.7 to prove that given hint is correct (3 code )\n",
        "spark.sql('SELECT \\\n",
        "               hotel_booking_df.country, \\\n",
        "               COUNT(DISTINCT(hotel_booking_df.country)) \\\n",
        "                                              N_country \\\n",
        "           FROM hotel_booking_df \\\n",
        "           LEFT JOIN iso_3166_df \\\n",
        "           ON hotel_booking_df.country = iso_3166_df.COUNTRY\\\n",
        "           WHERE iso_3166_df.Full_country_name IS NULL AND \\\n",
        "                 hotel_booking_df.country  IS NOT NULL \\\n",
        "           GROUP BY hotel_booking_df.country '\n",
        "           ).show(100)  \n",
        "\n",
        "# it can solve for Question 11"
      ],
      "metadata": {
        "colab": {
          "base_uri": "https://localhost:8080/"
        },
        "id": "r4YzoS8b-hJZ",
        "outputId": "c7fcfa6d-7099-4e8d-d39a-cc3c5ff5a5d2"
      },
      "execution_count": null,
      "outputs": [
        {
          "output_type": "stream",
          "name": "stdout",
          "text": [
            "+-------+---------+\n",
            "|country|N_country|\n",
            "+-------+---------+\n",
            "|     CN|        1|\n",
            "|    TMP|        1|\n",
            "|   NULL|        1|\n",
            "+-------+---------+\n",
            "\n"
          ]
        }
      ]
    },
    {
      "cell_type": "markdown",
      "source": [
        "## Question 17"
      ],
      "metadata": {
        "id": "thq_kYJ86mfq"
      }
    },
    {
      "cell_type": "markdown",
      "source": [
        "ให้นำชื่อประเทศที่ตรงกับรหัสประเทศของผู้เข้าพักมาเพิ่มเป็นคอลัมน์ใหม่ในตารางโดย `คงแถวของตารางการจองไว้`"
      ],
      "metadata": {
        "id": "8ImYMaqe6oYK"
      }
    },
    {
      "cell_type": "markdown",
      "source": [
        "ตามความเข้าใจคือ :  ให้ join table ISO โดยโชว์แค่คอลัมน์เดียว แล้ว add ไปให้อยู่ตรง hotel_booking ถาวร"
      ],
      "metadata": {
        "id": "hXw8_69VJ3fr"
      }
    },
    {
      "cell_type": "code",
      "source": [
        "# 17.1 view old data\n",
        "hotel_booking_df.show(3)"
      ],
      "metadata": {
        "colab": {
          "base_uri": "https://localhost:8080/"
        },
        "id": "1XXWTtqqCDs7",
        "outputId": "c3bd2d74-3d0d-4dbb-aa2d-d9b9d2069821"
      },
      "execution_count": null,
      "outputs": [
        {
          "output_type": "stream",
          "name": "stdout",
          "text": [
            "+------------+-----------+---------+-----------------+------------------+------------------------+-------------------------+-----------------------+--------------------+------+--------+------+----+-------+--------------+--------------------+-----------------+----------------------+------------------------------+------------------+------------------+---------------+------------+-----+-------+--------------------+-------------+----+---------------------------+-------------------------+------------------+-----------------------+-----------------+-------------------+------------------+\n",
            "|       hotel|is_canceled|lead_time|arrival_date_year|arrival_date_month|arrival_date_week_number|arrival_date_day_of_month|stays_in_weekend_nights|stays_in_week_nights|adults|children|babies|meal|country|market_segment|distribution_channel|is_repeated_guest|previous_cancellations|previous_bookings_not_canceled|reserved_room_type|assigned_room_type|booking_changes|deposit_type|agent|company|days_in_waiting_list|customer_type| adr|required_car_parking_spaces|total_of_special_requests|reservation_status|reservation_status_date|arrival_date_zero|       arrival_date|year_month_arrival|\n",
            "+------------+-----------+---------+-----------------+------------------+------------------------+-------------------------+-----------------------+--------------------+------+--------+------+----+-------+--------------+--------------------+-----------------+----------------------+------------------------------+------------------+------------------+---------------+------------+-----+-------+--------------------+-------------+----+---------------------------+-------------------------+------------------+-----------------------+-----------------+-------------------+------------------+\n",
            "|Resort Hotel|          0|      342|             2015|              July|                      27|                        1|                      0|                   0|     2|       0|     0|  BB|    PRT|        Direct|              Direct|                0|                     0|                             0|                 C|                 C|              3|  No Deposit| NULL|   NULL|                   0|    Transient| 0.0|                          0|                        0|         Check-Out|    2015-07-01 00:00:00|      2015-July-1|2015-07-01 00:00:00|           2015-07|\n",
            "|Resort Hotel|          0|      737|             2015|              July|                      27|                        1|                      0|                   0|     2|       0|     0|  BB|    PRT|        Direct|              Direct|                0|                     0|                             0|                 C|                 C|              4|  No Deposit| NULL|   NULL|                   0|    Transient| 0.0|                          0|                        0|         Check-Out|    2015-07-01 00:00:00|      2015-July-1|2015-07-01 00:00:00|           2015-07|\n",
            "|Resort Hotel|          0|        7|             2015|              July|                      27|                        1|                      0|                   1|     1|       0|     0|  BB|    GBR|        Direct|              Direct|                0|                     0|                             0|                 A|                 C|              0|  No Deposit| NULL|   NULL|                   0|    Transient|75.0|                          0|                        0|         Check-Out|    2015-07-02 00:00:00|      2015-July-1|2015-07-01 00:00:00|           2015-07|\n",
            "+------------+-----------+---------+-----------------+------------------+------------------------+-------------------------+-----------------------+--------------------+------+--------+------+----+-------+--------------+--------------------+-----------------+----------------------+------------------------------+------------------+------------------+---------------+------------+-----+-------+--------------------+-------------+----+---------------------------+-------------------------+------------------+-----------------------+-----------------+-------------------+------------------+\n",
            "only showing top 3 rows\n",
            "\n"
          ]
        }
      ]
    },
    {
      "cell_type": "code",
      "source": [
        "# 17.2 to view data in column-added table in hotel_booking_df \n",
        "hotel_booking_fullCT_df = \\\n",
        "spark.sql(\n",
        "    'SELECT \\\n",
        "               hotel_booking_df.* ,\\\n",
        "               iso_3166_df.Full_country_name \\\n",
        "           FROM hotel_booking_df \\\n",
        "           JOIN iso_3166_df \\\n",
        "           ON hotel_booking_df.country = iso_3166_df.country '\n",
        "\n",
        ")\n",
        "hotel_booking_fullCT_df.show(3) # it can solve for Question 17"
      ],
      "metadata": {
        "colab": {
          "base_uri": "https://localhost:8080/"
        },
        "id": "yzU31XExEveJ",
        "outputId": "c784a854-fe43-4fda-abde-fc2228354528"
      },
      "execution_count": null,
      "outputs": [
        {
          "output_type": "stream",
          "name": "stdout",
          "text": [
            "+------------+-----------+---------+-----------------+------------------+------------------------+-------------------------+-----------------------+--------------------+------+--------+------+----+-------+--------------+--------------------+-----------------+----------------------+------------------------------+------------------+------------------+---------------+------------+-----+-------+--------------------+-------------+----+---------------------------+-------------------------+------------------+-----------------------+--------------------+\n",
            "|       hotel|is_canceled|lead_time|arrival_date_year|arrival_date_month|arrival_date_week_number|arrival_date_day_of_month|stays_in_weekend_nights|stays_in_week_nights|adults|children|babies|meal|country|market_segment|distribution_channel|is_repeated_guest|previous_cancellations|previous_bookings_not_canceled|reserved_room_type|assigned_room_type|booking_changes|deposit_type|agent|company|days_in_waiting_list|customer_type| adr|required_car_parking_spaces|total_of_special_requests|reservation_status|reservation_status_date|   Full_country_name|\n",
            "+------------+-----------+---------+-----------------+------------------+------------------------+-------------------------+-----------------------+--------------------+------+--------+------+----+-------+--------------+--------------------+-----------------+----------------------+------------------------------+------------------+------------------+---------------+------------+-----+-------+--------------------+-------------+----+---------------------------+-------------------------+------------------+-----------------------+--------------------+\n",
            "|Resort Hotel|          0|      342|             2015|              July|                      27|                        1|                      0|                   0|     2|       0|     0|  BB|    PRT|        Direct|              Direct|                0|                     0|                             0|                 C|                 C|              3|  No Deposit| NULL|   NULL|                   0|    Transient| 0.0|                          0|                        0|         Check-Out|    2015-07-01 00:00:00|            Portugal|\n",
            "|Resort Hotel|          0|      737|             2015|              July|                      27|                        1|                      0|                   0|     2|       0|     0|  BB|    PRT|        Direct|              Direct|                0|                     0|                             0|                 C|                 C|              4|  No Deposit| NULL|   NULL|                   0|    Transient| 0.0|                          0|                        0|         Check-Out|    2015-07-01 00:00:00|            Portugal|\n",
            "|Resort Hotel|          0|        7|             2015|              July|                      27|                        1|                      0|                   1|     1|       0|     0|  BB|    GBR|        Direct|              Direct|                0|                     0|                             0|                 A|                 C|              0|  No Deposit| NULL|   NULL|                   0|    Transient|75.0|                          0|                        0|         Check-Out|    2015-07-02 00:00:00|United Kingdom of...|\n",
            "+------------+-----------+---------+-----------------+------------------+------------------------+-------------------------+-----------------------+--------------------+------+--------+------+----+-------+--------------+--------------------+-----------------+----------------------+------------------------------+------------------+------------------+---------------+------------+-----+-------+--------------------+-------------+----+---------------------------+-------------------------+------------------+-----------------------+--------------------+\n",
            "only showing top 3 rows\n",
            "\n"
          ]
        }
      ]
    },
    {
      "cell_type": "code",
      "source": [
        "hotel_booking_fullCT_df.printSchema()"
      ],
      "metadata": {
        "colab": {
          "base_uri": "https://localhost:8080/"
        },
        "id": "Vx_3Q4dYVfDy",
        "outputId": "a7bbe47f-1ed7-4f97-abc8-2fdc0660978f"
      },
      "execution_count": null,
      "outputs": [
        {
          "output_type": "stream",
          "name": "stdout",
          "text": [
            "root\n",
            " |-- hotel: string (nullable = true)\n",
            " |-- is_canceled: integer (nullable = true)\n",
            " |-- lead_time: integer (nullable = true)\n",
            " |-- arrival_date_year: integer (nullable = true)\n",
            " |-- arrival_date_month: string (nullable = true)\n",
            " |-- arrival_date_week_number: integer (nullable = true)\n",
            " |-- arrival_date_day_of_month: integer (nullable = true)\n",
            " |-- stays_in_weekend_nights: integer (nullable = true)\n",
            " |-- stays_in_week_nights: integer (nullable = true)\n",
            " |-- adults: integer (nullable = true)\n",
            " |-- children: string (nullable = true)\n",
            " |-- babies: integer (nullable = true)\n",
            " |-- meal: string (nullable = true)\n",
            " |-- country: string (nullable = true)\n",
            " |-- market_segment: string (nullable = true)\n",
            " |-- distribution_channel: string (nullable = true)\n",
            " |-- is_repeated_guest: integer (nullable = true)\n",
            " |-- previous_cancellations: integer (nullable = true)\n",
            " |-- previous_bookings_not_canceled: integer (nullable = true)\n",
            " |-- reserved_room_type: string (nullable = true)\n",
            " |-- assigned_room_type: string (nullable = true)\n",
            " |-- booking_changes: integer (nullable = true)\n",
            " |-- deposit_type: string (nullable = true)\n",
            " |-- agent: string (nullable = true)\n",
            " |-- company: string (nullable = true)\n",
            " |-- days_in_waiting_list: integer (nullable = true)\n",
            " |-- customer_type: string (nullable = true)\n",
            " |-- adr: double (nullable = true)\n",
            " |-- required_car_parking_spaces: integer (nullable = true)\n",
            " |-- total_of_special_requests: integer (nullable = true)\n",
            " |-- reservation_status: string (nullable = true)\n",
            " |-- reservation_status_date: timestamp (nullable = true)\n",
            " |-- Full_country_name: string (nullable = true)\n",
            "\n"
          ]
        }
      ]
    },
    {
      "cell_type": "markdown",
      "source": [
        "## Question 18"
      ],
      "metadata": {
        "id": "tVP8R95BCYmh"
      }
    },
    {
      "cell_type": "markdown",
      "source": [
        "พล็อตกราฟแสดง Boxplot ของจำนวนวันที่จองล่วงหน้า (lead_time) แยกตามประเภทลูกค้า (customer_type)"
      ],
      "metadata": {
        "id": "ZSxEvPt8Cb31"
      }
    },
    {
      "cell_type": "code",
      "source": [
        "# 18.1 Starting with import Libarary for Visualization\n",
        "import pandas as pd\n",
        "import seaborn as sns\n",
        "import matplotlib.pyplot as plt\n"
      ],
      "metadata": {
        "id": "ph-4m1RfRaH9"
      },
      "execution_count": null,
      "outputs": []
    },
    {
      "cell_type": "code",
      "source": [
        "# 18.2  create a pandas_dataframe before use it to create a boxplot\n",
        "hotel_booking_pandas_df = hotel_booking_df.toPandas()"
      ],
      "metadata": {
        "id": "ITwMPMd7THzR"
      },
      "execution_count": null,
      "outputs": []
    },
    {
      "cell_type": "code",
      "source": [
        "# 18.3 create a Boxplot : \n",
        "\n",
        "sns.catplot( data = hotel_booking_pandas_df , \n",
        "            x = 'customer_type' , \n",
        "            y = 'lead_time', \n",
        "            kind = 'box' , \n",
        "            height = 4  , aspect = 2)"
      ],
      "metadata": {
        "colab": {
          "base_uri": "https://localhost:8080/"
        },
        "id": "PrB-YKdoRtJV",
        "outputId": "6c6843b6-0062-4f0b-b9b6-eb59637e1143"
      },
      "execution_count": null,
      "outputs": [
        {
          "output_type": "execute_result",
          "data": {
            "text/plain": [
              "<seaborn.axisgrid.FacetGrid at 0x7f548681f310>"
            ]
          },
          "metadata": {},
          "execution_count": 58
        },
        {
          "output_type": "display_data",
          "data": {
            "text/plain": [
              "<Figure size 576x288 with 1 Axes>"
            ],
            "image/png": "[encoded data removed]"
          },
          "metadata": {
            "needs_background": "light"
          }
        }
      ]
    },
    {
      "cell_type": "markdown",
      "source": [
        "## Question 19 "
      ],
      "metadata": {
        "id": "GrTjfWPqFmnW"
      }
    },
    {
      "cell_type": "markdown",
      "source": [
        "พล็อตกราฟเส้นแสดงข้อมูลจำนวนผู้เข้าพักรายเดือนแยกสีของเส้นตามโรงแรม (hotel) ใช้ข้อมูลจากข้อ 14 มา\n",
        "พล็อตได้"
      ],
      "metadata": {
        "id": "dHRMYl0rCYlU"
      }
    },
    {
      "cell_type": "code",
      "source": [
        "# 19.1 to view summary table from answer@Question 14\n",
        "hotel_booking_yr_mo_df.show(10)"
      ],
      "metadata": {
        "colab": {
          "base_uri": "https://localhost:8080/"
        },
        "id": "TsUeoeT0e3Gl",
        "outputId": "dbce4f55-3329-4605-bc52-c55dc51fe6e1"
      },
      "execution_count": null,
      "outputs": [
        {
          "output_type": "stream",
          "name": "stdout",
          "text": [
            "+------------+------------------+-------------------+\n",
            "|       hotel|year_month_arrival|Monthly_customer_No|\n",
            "+------------+------------------+-------------------+\n",
            "|  City Hotel|           2015-07|               1398|\n",
            "|Resort Hotel|           2015-07|               1378|\n",
            "|  City Hotel|           2015-08|               2480|\n",
            "|Resort Hotel|           2015-08|               1409|\n",
            "|  City Hotel|           2015-09|               3529|\n",
            "|Resort Hotel|           2015-09|               1585|\n",
            "|  City Hotel|           2015-10|               3386|\n",
            "|Resort Hotel|           2015-10|               1571|\n",
            "|  City Hotel|           2015-11|               1235|\n",
            "|Resort Hotel|           2015-11|               1105|\n",
            "+------------+------------------+-------------------+\n",
            "only showing top 10 rows\n",
            "\n"
          ]
        }
      ]
    },
    {
      "cell_type": "code",
      "source": [
        "# 19.2  create a pandas_dataframe before use it to create a line plot\n",
        "hotel_booking_yr_mo_pandas_df = hotel_booking_yr_mo_df.toPandas()\n"
      ],
      "metadata": {
        "id": "wDylCaQvqzI2"
      },
      "execution_count": null,
      "outputs": []
    },
    {
      "cell_type": "code",
      "source": [
        "#  19.3 create a line plot\n",
        "plt.figure(figsize = (15,8))\n",
        "sns.relplot(data = hotel_booking_yr_mo_pandas_df, \n",
        "            x = 'year_month_arrival' ,y = 'Monthly_customer_No' ,\n",
        "            hue = 'hotel' ,   kind = 'line' \n",
        "            )\n",
        "plt.xticks(rotation=90)\n"
      ],
      "metadata": {
        "colab": {
          "base_uri": "https://localhost:8080/",
          "height": 919
        },
        "id": "Rozj6eQbVSPy",
        "outputId": "d15e794a-3de1-4a92-a035-8ae291e49b24"
      },
      "execution_count": null,
      "outputs": [
        {
          "output_type": "execute_result",
          "data": {
            "text/plain": [
              "([0,\n",
              "  1,\n",
              "  2,\n",
              "  3,\n",
              "  4,\n",
              "  5,\n",
              "  6,\n",
              "  7,\n",
              "  8,\n",
              "  9,\n",
              "  10,\n",
              "  11,\n",
              "  12,\n",
              "  13,\n",
              "  14,\n",
              "  15,\n",
              "  16,\n",
              "  17,\n",
              "  18,\n",
              "  19,\n",
              "  20,\n",
              "  21,\n",
              "  22,\n",
              "  23,\n",
              "  24,\n",
              "  25],\n",
              " <a list of 26 Text major ticklabel objects>)"
            ]
          },
          "metadata": {},
          "execution_count": 76
        },
        {
          "output_type": "display_data",
          "data": {
            "text/plain": [
              "<Figure size 1080x576 with 0 Axes>"
            ]
          },
          "metadata": {}
        },
        {
          "output_type": "display_data",
          "data": {
            "text/plain": [
              "<Figure size 457.25x360 with 1 Axes>"
            ],
            "image/png": "[encoded data removed]"
          },
          "metadata": {
            "needs_background": "light"
          }
        }
      ]
    },
    {
      "cell_type": "markdown",
      "source": [
        "## Question 20 "
      ],
      "metadata": {
        "id": "5bVTutpKU0kn"
      }
    },
    {
      "cell_type": "markdown",
      "source": [
        "พล็อต histogram แสดงการกระจายตัวของจำนวนผู้เข้าพักในหนึ่งวัน (นำมาจากตารางที่คำนวณในข้อ 13 ได้)"
      ],
      "metadata": {
        "id": "s51JWXfYVRZS"
      }
    },
    {
      "cell_type": "code",
      "source": [
        "# 20.1 Start with finding maximum number of customer\n",
        "# this data will be used to define bin in histogram\n",
        "\n",
        "hotel_book_wo_canceled = \\\n",
        "hotel_booking_df.filter( hotel_booking_df.is_canceled == 0 ).\\\n",
        "                 groupby('arrival_date').\\\n",
        "                 agg(F.count( \n",
        "                              hotel_booking_df.arrival_date).\\\n",
        "                              alias('Number_of_customers')\n",
        "                     ).\\\n",
        "                 sort('Number_of_customers',\n",
        "                       ascending = False)\n",
        "            \n",
        "\n",
        "hotel_book_wo_canceled.show(3)"
      ],
      "metadata": {
        "colab": {
          "base_uri": "https://localhost:8080/"
        },
        "id": "xhLZQPc0UfDP",
        "outputId": "ac211b2a-02a6-44d7-d0d5-ef5ae50b86d6"
      },
      "execution_count": null,
      "outputs": [
        {
          "output_type": "stream",
          "name": "stdout",
          "text": [
            "+-------------------+-------------------+\n",
            "|       arrival_date|Number_of_customers|\n",
            "+-------------------+-------------------+\n",
            "|2015-12-05 00:00:00|                255|\n",
            "|2016-06-24 00:00:00|                220|\n",
            "|2016-05-26 00:00:00|                213|\n",
            "+-------------------+-------------------+\n",
            "only showing top 3 rows\n",
            "\n"
          ]
        }
      ]
    },
    {
      "cell_type": "code",
      "source": [
        "# 20.2 create a pandas dataframe before use it to for creating a hitogram\n",
        "hotel_comer_pandas_df = hotel_book_wo_canceled.toPandas()"
      ],
      "metadata": {
        "id": "MHmUUhsDFxxk"
      },
      "execution_count": null,
      "outputs": []
    },
    {
      "cell_type": "code",
      "source": [
        "#  20.3  plot our histogram using seaborn library\n",
        "sns.displot(hotel_comer_pandas_df, \n",
        "            x = 'Number_of_customers' , \n",
        "            # and y would be number of days \n",
        "            bins = 260, height = 5 , aspect = 2)\n",
        "\n",
        " # it can solve for Question 20"
      ],
      "metadata": {
        "id": "rLr9-Ya8XsD7",
        "colab": {
          "base_uri": "https://localhost:8080/",
          "height": 387
        },
        "outputId": "96fb4096-223c-47de-97f0-8a0a818c5641"
      },
      "execution_count": null,
      "outputs": [
        {
          "output_type": "execute_result",
          "data": {
            "text/plain": [
              "<seaborn.axisgrid.FacetGrid at 0x7f547d50cf50>"
            ]
          },
          "metadata": {},
          "execution_count": 64
        },
        {
          "output_type": "display_data",
          "data": {
            "text/plain": [
              "<Figure size 720x360 with 1 Axes>"
            ],
            "image/png": "[encoded data removed]"
          },
          "metadata": {
            "needs_background": "light"
          }
        }
      ]
    }
  ]
}